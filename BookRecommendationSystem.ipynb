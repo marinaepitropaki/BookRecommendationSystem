{
 "cells": [
  {
   "cell_type": "markdown",
   "id": "55294ffd",
   "metadata": {},
   "source": [
    "# Data Loading and Cleaning"
   ]
  },
  {
   "cell_type": "code",
   "execution_count": 1,
   "id": "fdbbcf79",
   "metadata": {},
   "outputs": [],
   "source": [
    "# imports\n",
    "import pandas as pd\n",
    "import seaborn as sb\n",
    "import matplotlib.pyplot as plt"
   ]
  },
  {
   "cell_type": "code",
   "execution_count": 27,
   "id": "dbeaa608",
   "metadata": {},
   "outputs": [],
   "source": [
    "# Loading csv with preprocessed data\n",
    "# df = pd.read_csv('/Users/mep/Desktop/mep/CompTools/BookRecommendationSystem/Preprocessed_data.csv')\n",
    "df = pd.read_csv(r'C:\\Users\\xiaom.BLAKE\\Desktop\\BookRecommendationSystem\\Preprocessed_data.csv')\n",
    "\n",
    "# Cleaning the data\n",
    "# Removing zero ratings\n",
    "df = df[df['rating'] != 0]"
   ]
  },
  {
   "cell_type": "code",
   "execution_count": 4,
   "id": "f305eb50",
   "metadata": {},
   "outputs": [],
   "source": [
    "# Removing image_url columns because we will not use it.\n",
    "df = df.drop(['img_s'], axis=1)\n",
    "df = df.drop(['img_m'], axis=1)\n",
    "df = df.drop(['img_l'], axis=1)\n",
    "df = df.dropna()"
   ]
  },
  {
   "cell_type": "code",
   "execution_count": 5,
   "id": "09f51513",
   "metadata": {},
   "outputs": [
    {
     "data": {
      "text/html": [
       "<div>\n",
       "<style scoped>\n",
       "    .dataframe tbody tr th:only-of-type {\n",
       "        vertical-align: middle;\n",
       "    }\n",
       "\n",
       "    .dataframe tbody tr th {\n",
       "        vertical-align: top;\n",
       "    }\n",
       "\n",
       "    .dataframe thead th {\n",
       "        text-align: right;\n",
       "    }\n",
       "</style>\n",
       "<table border=\"1\" class=\"dataframe\">\n",
       "  <thead>\n",
       "    <tr style=\"text-align: right;\">\n",
       "      <th></th>\n",
       "      <th>Unnamed: 0</th>\n",
       "      <th>user_id</th>\n",
       "      <th>location</th>\n",
       "      <th>age</th>\n",
       "      <th>isbn</th>\n",
       "      <th>rating</th>\n",
       "      <th>book_title</th>\n",
       "      <th>book_author</th>\n",
       "      <th>year_of_publication</th>\n",
       "      <th>publisher</th>\n",
       "      <th>Summary</th>\n",
       "      <th>Language</th>\n",
       "      <th>Category</th>\n",
       "      <th>city</th>\n",
       "      <th>state</th>\n",
       "      <th>country</th>\n",
       "    </tr>\n",
       "  </thead>\n",
       "  <tbody>\n",
       "    <tr>\n",
       "      <th>1</th>\n",
       "      <td>1</td>\n",
       "      <td>8</td>\n",
       "      <td>timmins, ontario, canada</td>\n",
       "      <td>34.7439</td>\n",
       "      <td>0002005018</td>\n",
       "      <td>5</td>\n",
       "      <td>Clara Callan</td>\n",
       "      <td>Richard Bruce Wright</td>\n",
       "      <td>2001.0</td>\n",
       "      <td>HarperFlamingo Canada</td>\n",
       "      <td>In a small town in Canada, Clara Callan reluct...</td>\n",
       "      <td>en</td>\n",
       "      <td>['Actresses']</td>\n",
       "      <td>timmins</td>\n",
       "      <td>ontario</td>\n",
       "      <td>canada</td>\n",
       "    </tr>\n",
       "    <tr>\n",
       "      <th>5</th>\n",
       "      <td>5</td>\n",
       "      <td>67544</td>\n",
       "      <td>toronto, ontario, canada</td>\n",
       "      <td>30.0000</td>\n",
       "      <td>0002005018</td>\n",
       "      <td>8</td>\n",
       "      <td>Clara Callan</td>\n",
       "      <td>Richard Bruce Wright</td>\n",
       "      <td>2001.0</td>\n",
       "      <td>HarperFlamingo Canada</td>\n",
       "      <td>In a small town in Canada, Clara Callan reluct...</td>\n",
       "      <td>en</td>\n",
       "      <td>['Actresses']</td>\n",
       "      <td>toronto</td>\n",
       "      <td>ontario</td>\n",
       "      <td>canada</td>\n",
       "    </tr>\n",
       "    <tr>\n",
       "      <th>9</th>\n",
       "      <td>9</td>\n",
       "      <td>123629</td>\n",
       "      <td>kingston, ontario, canada</td>\n",
       "      <td>34.7439</td>\n",
       "      <td>0002005018</td>\n",
       "      <td>9</td>\n",
       "      <td>Clara Callan</td>\n",
       "      <td>Richard Bruce Wright</td>\n",
       "      <td>2001.0</td>\n",
       "      <td>HarperFlamingo Canada</td>\n",
       "      <td>In a small town in Canada, Clara Callan reluct...</td>\n",
       "      <td>en</td>\n",
       "      <td>['Actresses']</td>\n",
       "      <td>kingston</td>\n",
       "      <td>ontario</td>\n",
       "      <td>canada</td>\n",
       "    </tr>\n",
       "    <tr>\n",
       "      <th>11</th>\n",
       "      <td>11</td>\n",
       "      <td>200273</td>\n",
       "      <td>comber, ontario, canada</td>\n",
       "      <td>34.7439</td>\n",
       "      <td>0002005018</td>\n",
       "      <td>8</td>\n",
       "      <td>Clara Callan</td>\n",
       "      <td>Richard Bruce Wright</td>\n",
       "      <td>2001.0</td>\n",
       "      <td>HarperFlamingo Canada</td>\n",
       "      <td>In a small town in Canada, Clara Callan reluct...</td>\n",
       "      <td>en</td>\n",
       "      <td>['Actresses']</td>\n",
       "      <td>comber</td>\n",
       "      <td>ontario</td>\n",
       "      <td>canada</td>\n",
       "    </tr>\n",
       "    <tr>\n",
       "      <th>12</th>\n",
       "      <td>12</td>\n",
       "      <td>210926</td>\n",
       "      <td>guelph, ontario, canada</td>\n",
       "      <td>34.7439</td>\n",
       "      <td>0002005018</td>\n",
       "      <td>9</td>\n",
       "      <td>Clara Callan</td>\n",
       "      <td>Richard Bruce Wright</td>\n",
       "      <td>2001.0</td>\n",
       "      <td>HarperFlamingo Canada</td>\n",
       "      <td>In a small town in Canada, Clara Callan reluct...</td>\n",
       "      <td>en</td>\n",
       "      <td>['Actresses']</td>\n",
       "      <td>guelph</td>\n",
       "      <td>ontario</td>\n",
       "      <td>canada</td>\n",
       "    </tr>\n",
       "  </tbody>\n",
       "</table>\n",
       "</div>"
      ],
      "text/plain": [
       "    Unnamed: 0  user_id                   location      age        isbn  \\\n",
       "1            1        8   timmins, ontario, canada  34.7439  0002005018   \n",
       "5            5    67544   toronto, ontario, canada  30.0000  0002005018   \n",
       "9            9   123629  kingston, ontario, canada  34.7439  0002005018   \n",
       "11          11   200273    comber, ontario, canada  34.7439  0002005018   \n",
       "12          12   210926    guelph, ontario, canada  34.7439  0002005018   \n",
       "\n",
       "    rating    book_title           book_author  year_of_publication  \\\n",
       "1        5  Clara Callan  Richard Bruce Wright               2001.0   \n",
       "5        8  Clara Callan  Richard Bruce Wright               2001.0   \n",
       "9        9  Clara Callan  Richard Bruce Wright               2001.0   \n",
       "11       8  Clara Callan  Richard Bruce Wright               2001.0   \n",
       "12       9  Clara Callan  Richard Bruce Wright               2001.0   \n",
       "\n",
       "                publisher                                            Summary  \\\n",
       "1   HarperFlamingo Canada  In a small town in Canada, Clara Callan reluct...   \n",
       "5   HarperFlamingo Canada  In a small town in Canada, Clara Callan reluct...   \n",
       "9   HarperFlamingo Canada  In a small town in Canada, Clara Callan reluct...   \n",
       "11  HarperFlamingo Canada  In a small town in Canada, Clara Callan reluct...   \n",
       "12  HarperFlamingo Canada  In a small town in Canada, Clara Callan reluct...   \n",
       "\n",
       "   Language       Category      city    state country  \n",
       "1        en  ['Actresses']   timmins  ontario  canada  \n",
       "5        en  ['Actresses']   toronto  ontario  canada  \n",
       "9        en  ['Actresses']  kingston  ontario  canada  \n",
       "11       en  ['Actresses']    comber  ontario  canada  \n",
       "12       en  ['Actresses']    guelph  ontario  canada  "
      ]
     },
     "execution_count": 5,
     "metadata": {},
     "output_type": "execute_result"
    }
   ],
   "source": [
    "df.head()"
   ]
  },
  {
   "cell_type": "code",
   "execution_count": 6,
   "id": "e43202b1",
   "metadata": {},
   "outputs": [],
   "source": [
    "df.to_csv('Preprocessed_data_cleaned.csv', index=False)"
   ]
  },
  {
   "cell_type": "code",
   "execution_count": 7,
   "id": "d3a204cb",
   "metadata": {},
   "outputs": [],
   "source": [
    "# From now on we can work with df or load from the beggining \n",
    "# the Preprocessed_data_cleaned.csv file"
   ]
  },
  {
   "cell_type": "markdown",
   "id": "525fe930",
   "metadata": {},
   "source": [
    "-----------------------------------------------------------\n",
    "# Content Filtering - Variable based"
   ]
  },
  {
   "cell_type": "code",
   "execution_count": 45,
   "id": "54690661",
   "metadata": {},
   "outputs": [
    {
     "name": "stdout",
     "output_type": "stream",
     "text": [
      "        Unnamed: 0  user_id                   location      age        isbn  \\\n",
      "0                1        8   timmins, ontario, canada  34.7439  0002005018   \n",
      "1                5    67544   toronto, ontario, canada  30.0000  0002005018   \n",
      "2                9   123629  kingston, ontario, canada  34.7439  0002005018   \n",
      "3               11   200273    comber, ontario, canada  34.7439  0002005018   \n",
      "4               12   210926    guelph, ontario, canada  34.7439  0002005018   \n",
      "...            ...      ...                        ...      ...         ...   \n",
      "359466     1031169   278851         dallas, texas, usa  33.0000  067161746X   \n",
      "359467     1031171   278851         dallas, texas, usa  33.0000  0767907566   \n",
      "359468     1031172   278851         dallas, texas, usa  33.0000  0884159221   \n",
      "359469     1031173   278851         dallas, texas, usa  33.0000  0912333022   \n",
      "359470     1031174   278851         dallas, texas, usa  33.0000  1569661057   \n",
      "\n",
      "        rating                                         book_title  \\\n",
      "0            5                                       Clara Callan   \n",
      "1            8                                       Clara Callan   \n",
      "2            9                                       Clara Callan   \n",
      "3            8                                       Clara Callan   \n",
      "4            9                                       Clara Callan   \n",
      "...        ...                                                ...   \n",
      "359466       7  The Bachelor Home Companion: A Practical Guide...   \n",
      "359467       5  All Elevations Unknown: An Adventure in the He...   \n",
      "359468       7  Why stop?: A guide to Texas historical roadsid...   \n",
      "359469       7  The Are You Being Served? Stories: 'Camping In...   \n",
      "359470      10  Dallas Street Map Guide and Directory, 2000 Ed...   \n",
      "\n",
      "                 book_author  year_of_publication                 publisher  \\\n",
      "0       Richard Bruce Wright               2001.0     HarperFlamingo Canada   \n",
      "1       Richard Bruce Wright               2001.0     HarperFlamingo Canada   \n",
      "2       Richard Bruce Wright               2001.0     HarperFlamingo Canada   \n",
      "3       Richard Bruce Wright               2001.0     HarperFlamingo Canada   \n",
      "4       Richard Bruce Wright               2001.0     HarperFlamingo Canada   \n",
      "...                      ...                  ...                       ...   \n",
      "359466         P.J. O'Rourke               1987.0              Pocket Books   \n",
      "359467          Sam Lightner               2001.0            Broadway Books   \n",
      "359468         Claude Dooley               1985.0           Lone Star Books   \n",
      "359469          Jeremy Lloyd               1997.0                Kqed Books   \n",
      "359470                Mapsco               1999.0  American Map Corporation   \n",
      "\n",
      "                                                  Summary Language  \\\n",
      "0       In a small town in Canada, Clara Callan reluct...       en   \n",
      "1       In a small town in Canada, Clara Callan reluct...       en   \n",
      "2       In a small town in Canada, Clara Callan reluct...       en   \n",
      "3       In a small town in Canada, Clara Callan reluct...       en   \n",
      "4       In a small town in Canada, Clara Callan reluct...       en   \n",
      "...                                                   ...      ...   \n",
      "359466  A tongue-in-cheek survival guide for single pe...       en   \n",
      "359467  A daring twist on the travel-adventure genre t...       en   \n",
      "359468                                                  9        9   \n",
      "359469  These hilarious stories by the creator of publ...       en   \n",
      "359470                                                  9        9   \n",
      "\n",
      "             Category      city    state country  \n",
      "0       ['Actresses']   timmins  ontario  canada  \n",
      "1       ['Actresses']   toronto  ontario  canada  \n",
      "2       ['Actresses']  kingston  ontario  canada  \n",
      "3       ['Actresses']    comber  ontario  canada  \n",
      "4       ['Actresses']    guelph  ontario  canada  \n",
      "...               ...       ...      ...     ...  \n",
      "359466      ['Humor']    dallas    texas     usa  \n",
      "359467     ['Nature']    dallas    texas     usa  \n",
      "359468              9    dallas    texas     usa  \n",
      "359469    ['Fiction']    dallas    texas     usa  \n",
      "359470              9    dallas    texas     usa  \n",
      "\n",
      "[359471 rows x 16 columns]\n"
     ]
    }
   ],
   "source": [
    "# Loading csv with preprocessed data cleaned\n",
    "# Here add your path to the Preprocessed_data_cleaned.csv file!\n",
    "# You just need to run the first and this cell from now on everytime you want to run\n",
    "# the code\n",
    "df_cleaned = pd.read_csv(r'C:\\Users\\xiaom.BLAKE\\Desktop\\BookRecommendationSystem\\Preprocessed_data_cleaned.csv')\n",
    "\n",
    "print(df_cleaned)"
   ]
  },
  {
   "cell_type": "markdown",
   "id": "724b4198",
   "metadata": {},
   "source": [
    "### book_title, book_author, publisher and Category recommender"
   ]
  },
  {
   "cell_type": "code",
   "execution_count": 42,
   "id": "53bfc1b0",
   "metadata": {},
   "outputs": [
    {
     "name": "stdout",
     "output_type": "stream",
     "text": [
      "9                                                         142157\n",
      "['Fiction']                                               127055\n",
      "['Juvenile Fiction']                                       14181\n",
      "['Biography & Autobiography']                               8876\n",
      "['Humor']                                                   3721\n",
      "                                                           ...  \n",
      "['Art patronage']                                              1\n",
      "['Ethnobotany']                                                1\n",
      "['Art criticism']                                              1\n",
      "['Diners (Restaurants)']                                       1\n",
      "['Authors, Canadian (English) 20th century Biography']         1\n",
      "Name: Category, Length: 4162, dtype: int64\n"
     ]
    },
    {
     "data": {
      "text/plain": [
       "<bound method NDFrame.head of                                                book_title  \\\n",
       "0                                            Clara Callan   \n",
       "1                                            Clara Callan   \n",
       "2                                            Clara Callan   \n",
       "3                                            Clara Callan   \n",
       "4                                            Clara Callan   \n",
       "...                                                   ...   \n",
       "359466  The Bachelor Home Companion: A Practical Guide...   \n",
       "359467  All Elevations Unknown: An Adventure in the He...   \n",
       "359468  Why stop?: A guide to Texas historical roadsid...   \n",
       "359469  The Are You Being Served? Stories: 'Camping In...   \n",
       "359470  Dallas Street Map Guide and Directory, 2000 Ed...   \n",
       "\n",
       "                 book_author                 publisher       Category  \n",
       "0       Richard Bruce Wright     HarperFlamingo Canada  ['Actresses']  \n",
       "1       Richard Bruce Wright     HarperFlamingo Canada  ['Actresses']  \n",
       "2       Richard Bruce Wright     HarperFlamingo Canada  ['Actresses']  \n",
       "3       Richard Bruce Wright     HarperFlamingo Canada  ['Actresses']  \n",
       "4       Richard Bruce Wright     HarperFlamingo Canada  ['Actresses']  \n",
       "...                      ...                       ...            ...  \n",
       "359466         P.J. O'Rourke              Pocket Books      ['Humor']  \n",
       "359467          Sam Lightner            Broadway Books     ['Nature']  \n",
       "359468         Claude Dooley           Lone Star Books              9  \n",
       "359469          Jeremy Lloyd                Kqed Books    ['Fiction']  \n",
       "359470                Mapsco  American Map Corporation              9  \n",
       "\n",
       "[359471 rows x 4 columns]>"
      ]
     },
     "execution_count": 42,
     "metadata": {},
     "output_type": "execute_result"
    }
   ],
   "source": [
    "# Data analysis\n",
    "features = ['book_title', 'book_author', 'publisher', 'Category']\n",
    "analysis_filename = 'data_analysis.txt'\n",
    "\n",
    "for current_feature in features:\n",
    "    unique_values = df_cleaned[current_feature].unique().tolist()\n",
    "\n",
    "    with open(f\"{analysis_filename}_{current_feature}\", 'w', encoding=\"utf-8\") as f:\n",
    "        for v in unique_values:\n",
    "            f.write(\"%s\\n\" % v)\n",
    "\n",
    "# See how many times the category \"9\" appears\n",
    "print(df_cleaned[features[3]].value_counts())\n",
    "\n",
    "\n",
    "# Current features head\n",
    "df_cleaned[features].head"
   ]
  },
  {
   "cell_type": "markdown",
   "id": "1be69c65",
   "metadata": {},
   "source": [
    "Clean category column"
   ]
  },
  {
   "cell_type": "code",
   "execution_count": 53,
   "id": "1da016cd",
   "metadata": {},
   "outputs": [
    {
     "data": {
      "text/plain": [
       "<bound method NDFrame.head of                                                book_title  \\\n",
       "0                                            Clara Callan   \n",
       "1                                            Clara Callan   \n",
       "2                                            Clara Callan   \n",
       "3                                            Clara Callan   \n",
       "4                                            Clara Callan   \n",
       "...                                                   ...   \n",
       "359466  The Bachelor Home Companion: A Practical Guide...   \n",
       "359467  All Elevations Unknown: An Adventure in the He...   \n",
       "359468  Why stop?: A guide to Texas historical roadsid...   \n",
       "359469  The Are You Being Served? Stories: 'Camping In...   \n",
       "359470  Dallas Street Map Guide and Directory, 2000 Ed...   \n",
       "\n",
       "                 book_author                 publisher   Category  \n",
       "0       Richard Bruce Wright     HarperFlamingo Canada  Actresses  \n",
       "1       Richard Bruce Wright     HarperFlamingo Canada  Actresses  \n",
       "2       Richard Bruce Wright     HarperFlamingo Canada  Actresses  \n",
       "3       Richard Bruce Wright     HarperFlamingo Canada  Actresses  \n",
       "4       Richard Bruce Wright     HarperFlamingo Canada  Actresses  \n",
       "...                      ...                       ...        ...  \n",
       "359466         P.J. O'Rourke              Pocket Books      Humor  \n",
       "359467          Sam Lightner            Broadway Books     Nature  \n",
       "359468         Claude Dooley           Lone Star Books          9  \n",
       "359469          Jeremy Lloyd                Kqed Books    Fiction  \n",
       "359470                Mapsco  American Map Corporation          9  \n",
       "\n",
       "[359471 rows x 4 columns]>"
      ]
     },
     "execution_count": 53,
     "metadata": {},
     "output_type": "execute_result"
    }
   ],
   "source": [
    "from ast import literal_eval\n",
    "\n",
    "features = ['book_title', 'book_author', 'publisher', 'Category']\n",
    "\n",
    "# Parse the stringified features into their corresponding python objects\n",
    "df_cleaned[features[3]] = df_cleaned[features[3]].apply(literal_eval)\n",
    "\n",
    "# Since each list contains only 1 element, replace the list by the element inside while dealing\n",
    "# with the 9 values\n",
    "def get_str_from_list(val):\n",
    "    if val == 9:\n",
    "        return str(9)\n",
    "    return val[0]\n",
    "\n",
    "df_cleaned[features[3]] = df_cleaned[features[3]].apply(get_str_from_list)\n",
    "\n",
    "# Current features head\n",
    "df_cleaned[features].head"
   ]
  },
  {
   "cell_type": "markdown",
   "id": "f0c07ee2",
   "metadata": {},
   "source": [
    "Prepare data"
   ]
  },
  {
   "cell_type": "code",
   "execution_count": 55,
   "id": "edf28fd1",
   "metadata": {},
   "outputs": [
    {
     "data": {
      "text/plain": [
       "<bound method NDFrame.head of                                                book_title         book_author  \\\n",
       "0                                            clara callan  richardbrucewright   \n",
       "1                                            clara callan  richardbrucewright   \n",
       "2                                            clara callan  richardbrucewright   \n",
       "3                                            clara callan  richardbrucewright   \n",
       "4                                            clara callan  richardbrucewright   \n",
       "...                                                   ...                 ...   \n",
       "359466  the bachelor home companion: a practical guide...        p.j.o'rourke   \n",
       "359467  all elevations unknown: an adventure in the he...         samlightner   \n",
       "359468  why stop?: a guide to texas historical roadsid...        claudedooley   \n",
       "359469  the are you being served? stories: 'camping in...         jeremylloyd   \n",
       "359470  dallas street map guide and directory, 2000 ed...              mapsco   \n",
       "\n",
       "                     publisher   Category  \n",
       "0         harperflamingocanada  actresses  \n",
       "1         harperflamingocanada  actresses  \n",
       "2         harperflamingocanada  actresses  \n",
       "3         harperflamingocanada  actresses  \n",
       "4         harperflamingocanada  actresses  \n",
       "...                        ...        ...  \n",
       "359466             pocketbooks      humor  \n",
       "359467           broadwaybooks     nature  \n",
       "359468           lonestarbooks          9  \n",
       "359469               kqedbooks    fiction  \n",
       "359470  americanmapcorporation          9  \n",
       "\n",
       "[359471 rows x 4 columns]>"
      ]
     },
     "execution_count": 55,
     "metadata": {},
     "output_type": "execute_result"
    }
   ],
   "source": [
    "# Function to convert all strings to lower case and strip names of spaces\n",
    "def lower_and_remove_spaces(x):\n",
    "    if isinstance(x, list):\n",
    "        return [str.lower(i.replace(\" \", \"\")) for i in x]\n",
    "    else:\n",
    "        #Check if author exists. If not, return empty string\n",
    "        if isinstance(x, str):\n",
    "            return str.lower(x.replace(\" \", \"\"))\n",
    "        else:\n",
    "            return ''\n",
    "\n",
    "# Apply clean_data function to selected features.\n",
    "remove_spaces_features = ['book_author', 'publisher']\n",
    "\n",
    "for feature in remove_spaces_features:\n",
    "    df_cleaned[feature] = df_cleaned[feature].apply(lower_and_remove_spaces)\n",
    "\n",
    "for feature in features:\n",
    "    df_cleaned[feature] = df_cleaned[feature].apply(str.lower)\n",
    "\n",
    "\n",
    "# Current features head\n",
    "df_cleaned[features].head"
   ]
  },
  {
   "cell_type": "markdown",
   "id": "61bac982",
   "metadata": {},
   "source": [
    "Start recommender system"
   ]
  },
  {
   "cell_type": "code",
   "execution_count": 56,
   "id": "e74d1257",
   "metadata": {},
   "outputs": [
    {
     "name": "stdout",
     "output_type": "stream",
     "text": [
      "<bound method NDFrame.head of 0         c l a r a   c a l l a n r i c h a r d b r u c ...\n",
      "1         c l a r a   c a l l a n r i c h a r d b r u c ...\n",
      "2         c l a r a   c a l l a n r i c h a r d b r u c ...\n",
      "3         c l a r a   c a l l a n r i c h a r d b r u c ...\n",
      "4         c l a r a   c a l l a n r i c h a r d b r u c ...\n",
      "                                ...                        \n",
      "359466    t h e   b a c h e l o r   h o m e   c o m p a ...\n",
      "359467    a l l   e l e v a t i o n s   u n k n o w n : ...\n",
      "359468    w h y   s t o p ? :   a   g u i d e   t o   t ...\n",
      "359469    t h e   a r e   y o u   b e i n g   s e r v e ...\n",
      "359470    d a l l a s   s t r e e t   m a p   g u i d e ...\n",
      "Name: soup, Length: 359471, dtype: object>\n"
     ]
    }
   ],
   "source": [
    "features = ['book_title', 'book_author', 'publisher', 'Category']\n",
    "\n",
    "def create_soup(x):\n",
    "    return ' '.join(x[features[0]]) + ' ' + ' '.join(x[features[1]]) + ' ' + x[features[2]] + ' ' + ' '.join(x[features[3]])\n",
    "df_cleaned['soup'] = df_cleaned.apply(create_soup, axis=1)\n",
    "\n",
    "print(df_cleaned['soup'].head)"
   ]
  },
  {
   "cell_type": "code",
   "execution_count": 73,
   "id": "b8adeca4",
   "metadata": {},
   "outputs": [
    {
     "name": "stdout",
     "output_type": "stream",
     "text": [
      "(20000, 310)\n"
     ]
    },
    {
     "ename": "ValueError",
     "evalue": "array is too big; `arr.size * arr.dtype.itemsize` is larger than the maximum possible size.",
     "output_type": "error",
     "traceback": [
      "\u001b[1;31m---------------------------------------------------------------------------\u001b[0m",
      "\u001b[1;31mValueError\u001b[0m                                Traceback (most recent call last)",
      "\u001b[1;32mC:\\Users\\XIAOM~1.BLA\\AppData\\Local\\Temp/ipykernel_14532/2956245592.py\u001b[0m in \u001b[0;36m<module>\u001b[1;34m\u001b[0m\n\u001b[0;32m     13\u001b[0m \u001b[1;33m\u001b[0m\u001b[0m\n\u001b[0;32m     14\u001b[0m \u001b[1;31m# Compute the Cosine Similarity matrix based on the count_matrix\u001b[0m\u001b[1;33m\u001b[0m\u001b[1;33m\u001b[0m\u001b[1;33m\u001b[0m\u001b[0m\n\u001b[1;32m---> 15\u001b[1;33m \u001b[0mcosine_sim\u001b[0m \u001b[1;33m=\u001b[0m \u001b[0mcosine_similarity\u001b[0m\u001b[1;33m(\u001b[0m\u001b[0mcount_matrix\u001b[0m\u001b[1;33m,\u001b[0m \u001b[0mcount_matrix\u001b[0m\u001b[1;33m)\u001b[0m\u001b[1;33m\u001b[0m\u001b[1;33m\u001b[0m\u001b[0m\n\u001b[0m\u001b[0;32m     16\u001b[0m \u001b[1;33m\u001b[0m\u001b[0m\n\u001b[0;32m     17\u001b[0m \u001b[1;31m# Reset index of our main DataFrame and construct reverse mapping\u001b[0m\u001b[1;33m\u001b[0m\u001b[1;33m\u001b[0m\u001b[1;33m\u001b[0m\u001b[0m\n",
      "\u001b[1;32mc:\\Users\\xiaom.BLAKE\\AppData\\Local\\Programs\\Python\\Python37-32\\lib\\site-packages\\sklearn\\metrics\\pairwise.py\u001b[0m in \u001b[0;36mcosine_similarity\u001b[1;34m(X, Y, dense_output)\u001b[0m\n\u001b[0;32m   1187\u001b[0m \u001b[1;33m\u001b[0m\u001b[0m\n\u001b[0;32m   1188\u001b[0m     K = safe_sparse_dot(X_normalized, Y_normalized.T,\n\u001b[1;32m-> 1189\u001b[1;33m                         dense_output=dense_output)\n\u001b[0m\u001b[0;32m   1190\u001b[0m \u001b[1;33m\u001b[0m\u001b[0m\n\u001b[0;32m   1191\u001b[0m     \u001b[1;32mreturn\u001b[0m \u001b[0mK\u001b[0m\u001b[1;33m\u001b[0m\u001b[1;33m\u001b[0m\u001b[0m\n",
      "\u001b[1;32mc:\\Users\\xiaom.BLAKE\\AppData\\Local\\Programs\\Python\\Python37-32\\lib\\site-packages\\sklearn\\utils\\validation.py\u001b[0m in \u001b[0;36minner_f\u001b[1;34m(*args, **kwargs)\u001b[0m\n\u001b[0;32m     61\u001b[0m             \u001b[0mextra_args\u001b[0m \u001b[1;33m=\u001b[0m \u001b[0mlen\u001b[0m\u001b[1;33m(\u001b[0m\u001b[0margs\u001b[0m\u001b[1;33m)\u001b[0m \u001b[1;33m-\u001b[0m \u001b[0mlen\u001b[0m\u001b[1;33m(\u001b[0m\u001b[0mall_args\u001b[0m\u001b[1;33m)\u001b[0m\u001b[1;33m\u001b[0m\u001b[1;33m\u001b[0m\u001b[0m\n\u001b[0;32m     62\u001b[0m             \u001b[1;32mif\u001b[0m \u001b[0mextra_args\u001b[0m \u001b[1;33m<=\u001b[0m \u001b[1;36m0\u001b[0m\u001b[1;33m:\u001b[0m\u001b[1;33m\u001b[0m\u001b[1;33m\u001b[0m\u001b[0m\n\u001b[1;32m---> 63\u001b[1;33m                 \u001b[1;32mreturn\u001b[0m \u001b[0mf\u001b[0m\u001b[1;33m(\u001b[0m\u001b[1;33m*\u001b[0m\u001b[0margs\u001b[0m\u001b[1;33m,\u001b[0m \u001b[1;33m**\u001b[0m\u001b[0mkwargs\u001b[0m\u001b[1;33m)\u001b[0m\u001b[1;33m\u001b[0m\u001b[1;33m\u001b[0m\u001b[0m\n\u001b[0m\u001b[0;32m     64\u001b[0m \u001b[1;33m\u001b[0m\u001b[0m\n\u001b[0;32m     65\u001b[0m             \u001b[1;31m# extra_args > 0\u001b[0m\u001b[1;33m\u001b[0m\u001b[1;33m\u001b[0m\u001b[1;33m\u001b[0m\u001b[0m\n",
      "\u001b[1;32mc:\\Users\\xiaom.BLAKE\\AppData\\Local\\Programs\\Python\\Python37-32\\lib\\site-packages\\sklearn\\utils\\extmath.py\u001b[0m in \u001b[0;36msafe_sparse_dot\u001b[1;34m(a, b, dense_output)\u001b[0m\n\u001b[0;32m    154\u001b[0m     if (sparse.issparse(a) and sparse.issparse(b)\n\u001b[0;32m    155\u001b[0m             and dense_output and hasattr(ret, \"toarray\")):\n\u001b[1;32m--> 156\u001b[1;33m         \u001b[1;32mreturn\u001b[0m \u001b[0mret\u001b[0m\u001b[1;33m.\u001b[0m\u001b[0mtoarray\u001b[0m\u001b[1;33m(\u001b[0m\u001b[1;33m)\u001b[0m\u001b[1;33m\u001b[0m\u001b[1;33m\u001b[0m\u001b[0m\n\u001b[0m\u001b[0;32m    157\u001b[0m     \u001b[1;32mreturn\u001b[0m \u001b[0mret\u001b[0m\u001b[1;33m\u001b[0m\u001b[1;33m\u001b[0m\u001b[0m\n\u001b[0;32m    158\u001b[0m \u001b[1;33m\u001b[0m\u001b[0m\n",
      "\u001b[1;32mc:\\Users\\xiaom.BLAKE\\AppData\\Local\\Programs\\Python\\Python37-32\\lib\\site-packages\\scipy\\sparse\\compressed.py\u001b[0m in \u001b[0;36mtoarray\u001b[1;34m(self, order, out)\u001b[0m\n\u001b[0;32m   1029\u001b[0m         \u001b[1;32mif\u001b[0m \u001b[0mout\u001b[0m \u001b[1;32mis\u001b[0m \u001b[1;32mNone\u001b[0m \u001b[1;32mand\u001b[0m \u001b[0morder\u001b[0m \u001b[1;32mis\u001b[0m \u001b[1;32mNone\u001b[0m\u001b[1;33m:\u001b[0m\u001b[1;33m\u001b[0m\u001b[1;33m\u001b[0m\u001b[0m\n\u001b[0;32m   1030\u001b[0m             \u001b[0morder\u001b[0m \u001b[1;33m=\u001b[0m \u001b[0mself\u001b[0m\u001b[1;33m.\u001b[0m\u001b[0m_swap\u001b[0m\u001b[1;33m(\u001b[0m\u001b[1;34m'cf'\u001b[0m\u001b[1;33m)\u001b[0m\u001b[1;33m[\u001b[0m\u001b[1;36m0\u001b[0m\u001b[1;33m]\u001b[0m\u001b[1;33m\u001b[0m\u001b[1;33m\u001b[0m\u001b[0m\n\u001b[1;32m-> 1031\u001b[1;33m         \u001b[0mout\u001b[0m \u001b[1;33m=\u001b[0m \u001b[0mself\u001b[0m\u001b[1;33m.\u001b[0m\u001b[0m_process_toarray_args\u001b[0m\u001b[1;33m(\u001b[0m\u001b[0morder\u001b[0m\u001b[1;33m,\u001b[0m \u001b[0mout\u001b[0m\u001b[1;33m)\u001b[0m\u001b[1;33m\u001b[0m\u001b[1;33m\u001b[0m\u001b[0m\n\u001b[0m\u001b[0;32m   1032\u001b[0m         \u001b[1;32mif\u001b[0m \u001b[1;32mnot\u001b[0m \u001b[1;33m(\u001b[0m\u001b[0mout\u001b[0m\u001b[1;33m.\u001b[0m\u001b[0mflags\u001b[0m\u001b[1;33m.\u001b[0m\u001b[0mc_contiguous\u001b[0m \u001b[1;32mor\u001b[0m \u001b[0mout\u001b[0m\u001b[1;33m.\u001b[0m\u001b[0mflags\u001b[0m\u001b[1;33m.\u001b[0m\u001b[0mf_contiguous\u001b[0m\u001b[1;33m)\u001b[0m\u001b[1;33m:\u001b[0m\u001b[1;33m\u001b[0m\u001b[1;33m\u001b[0m\u001b[0m\n\u001b[0;32m   1033\u001b[0m             \u001b[1;32mraise\u001b[0m \u001b[0mValueError\u001b[0m\u001b[1;33m(\u001b[0m\u001b[1;34m'Output array must be C or F contiguous'\u001b[0m\u001b[1;33m)\u001b[0m\u001b[1;33m\u001b[0m\u001b[1;33m\u001b[0m\u001b[0m\n",
      "\u001b[1;32mc:\\Users\\xiaom.BLAKE\\AppData\\Local\\Programs\\Python\\Python37-32\\lib\\site-packages\\scipy\\sparse\\base.py\u001b[0m in \u001b[0;36m_process_toarray_args\u001b[1;34m(self, order, out)\u001b[0m\n\u001b[0;32m   1200\u001b[0m             \u001b[1;32mreturn\u001b[0m \u001b[0mout\u001b[0m\u001b[1;33m\u001b[0m\u001b[1;33m\u001b[0m\u001b[0m\n\u001b[0;32m   1201\u001b[0m         \u001b[1;32melse\u001b[0m\u001b[1;33m:\u001b[0m\u001b[1;33m\u001b[0m\u001b[1;33m\u001b[0m\u001b[0m\n\u001b[1;32m-> 1202\u001b[1;33m             \u001b[1;32mreturn\u001b[0m \u001b[0mnp\u001b[0m\u001b[1;33m.\u001b[0m\u001b[0mzeros\u001b[0m\u001b[1;33m(\u001b[0m\u001b[0mself\u001b[0m\u001b[1;33m.\u001b[0m\u001b[0mshape\u001b[0m\u001b[1;33m,\u001b[0m \u001b[0mdtype\u001b[0m\u001b[1;33m=\u001b[0m\u001b[0mself\u001b[0m\u001b[1;33m.\u001b[0m\u001b[0mdtype\u001b[0m\u001b[1;33m,\u001b[0m \u001b[0morder\u001b[0m\u001b[1;33m=\u001b[0m\u001b[0morder\u001b[0m\u001b[1;33m)\u001b[0m\u001b[1;33m\u001b[0m\u001b[1;33m\u001b[0m\u001b[0m\n\u001b[0m\u001b[0;32m   1203\u001b[0m \u001b[1;33m\u001b[0m\u001b[0m\n\u001b[0;32m   1204\u001b[0m \u001b[1;33m\u001b[0m\u001b[0m\n",
      "\u001b[1;31mValueError\u001b[0m: array is too big; `arr.size * arr.dtype.itemsize` is larger than the maximum possible size."
     ]
    }
   ],
   "source": [
    "df_cleaned = backup_df.copy()\n",
    "backup_df = df_cleaned.copy()\n",
    "df_cleaned = df_cleaned.head(20000)\n",
    "\n",
    "from sklearn.feature_extraction.text import CountVectorizer\n",
    "from sklearn.metrics.pairwise import cosine_similarity\n",
    "\n",
    "# Import CountVectorizer and create the count matrix\n",
    "count = CountVectorizer(stop_words='english')\n",
    "count_matrix = count.fit_transform(df_cleaned['soup'])\n",
    "\n",
    "print(count_matrix.shape)\n",
    "\n",
    "# Compute the Cosine Similarity matrix based on the count_matrix\n",
    "cosine_sim = cosine_similarity(count_matrix, count_matrix)\n",
    "\n",
    "# Reset index of our main DataFrame and construct reverse mapping\n",
    "df_cleaned = df_cleaned.reset_index()\n",
    "indices = pd.Series(df_cleaned.index, index=df_cleaned['book_title'])"
   ]
  },
  {
   "cell_type": "code",
   "execution_count": 62,
   "id": "2e09b0aa",
   "metadata": {},
   "outputs": [],
   "source": [
    "def get_recommendations(title, cosine_sim=cosine_sim):\n",
    "    # Get the index of the book that matches the title\n",
    "    idx = indices[title]\n",
    "\n",
    "    # Get the pairwsie similarity scores of all book with that book\n",
    "    sim_scores = list(enumerate(cosine_sim[idx]))\n",
    "\n",
    "    # Sort the books based on the similarity scores\n",
    "    sim_scores = sorted(sim_scores, key=lambda x: x[1], reverse=True)\n",
    "\n",
    "    # Get the scores of the 10 most similar books\n",
    "    sim_scores = sim_scores[1:11]\n",
    "\n",
    "    # Get the book indices\n",
    "    book_indices = [i[0] for i in sim_scores]\n",
    "\n",
    "    # Return the top 10 most similar books\n",
    "    return df_cleaned['book_title'].iloc[book_indices]"
   ]
  },
  {
   "cell_type": "code",
   "execution_count": 72,
   "id": "98b849a8",
   "metadata": {},
   "outputs": [
    {
     "name": "stdout",
     "output_type": "stream",
     "text": [
      "<bound method NDFrame.head of 0         clara callan\n",
      "1         clara callan\n",
      "2         clara callan\n",
      "3         clara callan\n",
      "4         clara callan\n",
      "             ...      \n",
      "4995    the bean trees\n",
      "4996    the bean trees\n",
      "4997    the bean trees\n",
      "4998    the bean trees\n",
      "4999    the bean trees\n",
      "Name: book_title, Length: 5000, dtype: object>\n"
     ]
    },
    {
     "ename": "ValueError",
     "evalue": "The truth value of an array with more than one element is ambiguous. Use a.any() or a.all()",
     "output_type": "error",
     "traceback": [
      "\u001b[1;31m---------------------------------------------------------------------------\u001b[0m",
      "\u001b[1;31mValueError\u001b[0m                                Traceback (most recent call last)",
      "\u001b[1;32mC:\\Users\\XIAOM~1.BLA\\AppData\\Local\\Temp/ipykernel_14532/327296979.py\u001b[0m in \u001b[0;36m<module>\u001b[1;34m\u001b[0m\n\u001b[0;32m      1\u001b[0m \u001b[0mprint\u001b[0m\u001b[1;33m(\u001b[0m\u001b[0mdf_cleaned\u001b[0m\u001b[1;33m[\u001b[0m\u001b[1;34m'book_title'\u001b[0m\u001b[1;33m]\u001b[0m\u001b[1;33m.\u001b[0m\u001b[0mhead\u001b[0m\u001b[1;33m)\u001b[0m\u001b[1;33m\u001b[0m\u001b[1;33m\u001b[0m\u001b[0m\n\u001b[1;32m----> 2\u001b[1;33m \u001b[0mget_recommendations\u001b[0m\u001b[1;33m(\u001b[0m\u001b[1;34m'timeline'\u001b[0m\u001b[1;33m,\u001b[0m \u001b[0mcosine_sim\u001b[0m\u001b[1;33m)\u001b[0m\u001b[1;33m\u001b[0m\u001b[1;33m\u001b[0m\u001b[0m\n\u001b[0m",
      "\u001b[1;32mC:\\Users\\XIAOM~1.BLA\\AppData\\Local\\Temp/ipykernel_14532/952867902.py\u001b[0m in \u001b[0;36mget_recommendations\u001b[1;34m(title, cosine_sim)\u001b[0m\n\u001b[0;32m      7\u001b[0m \u001b[1;33m\u001b[0m\u001b[0m\n\u001b[0;32m      8\u001b[0m     \u001b[1;31m# Sort the books based on the similarity scores\u001b[0m\u001b[1;33m\u001b[0m\u001b[1;33m\u001b[0m\u001b[1;33m\u001b[0m\u001b[0m\n\u001b[1;32m----> 9\u001b[1;33m     \u001b[0msim_scores\u001b[0m \u001b[1;33m=\u001b[0m \u001b[0msorted\u001b[0m\u001b[1;33m(\u001b[0m\u001b[0msim_scores\u001b[0m\u001b[1;33m,\u001b[0m \u001b[0mkey\u001b[0m\u001b[1;33m=\u001b[0m\u001b[1;32mlambda\u001b[0m \u001b[0mx\u001b[0m\u001b[1;33m:\u001b[0m \u001b[0mx\u001b[0m\u001b[1;33m[\u001b[0m\u001b[1;36m1\u001b[0m\u001b[1;33m]\u001b[0m\u001b[1;33m,\u001b[0m \u001b[0mreverse\u001b[0m\u001b[1;33m=\u001b[0m\u001b[1;32mTrue\u001b[0m\u001b[1;33m)\u001b[0m\u001b[1;33m\u001b[0m\u001b[1;33m\u001b[0m\u001b[0m\n\u001b[0m\u001b[0;32m     10\u001b[0m \u001b[1;33m\u001b[0m\u001b[0m\n\u001b[0;32m     11\u001b[0m     \u001b[1;31m# Get the scores of the 10 most similar books\u001b[0m\u001b[1;33m\u001b[0m\u001b[1;33m\u001b[0m\u001b[1;33m\u001b[0m\u001b[0m\n",
      "\u001b[1;31mValueError\u001b[0m: The truth value of an array with more than one element is ambiguous. Use a.any() or a.all()"
     ]
    }
   ],
   "source": [
    "print(df_cleaned['book_title'].head)\n",
    "get_recommendations('timeline', cosine_sim)\n"
   ]
  }
 ],
 "metadata": {
  "kernelspec": {
   "display_name": "Python 3.7.2 32-bit",
   "language": "python",
   "name": "python3"
  },
  "language_info": {
   "codemirror_mode": {
    "name": "ipython",
    "version": 3
   },
   "file_extension": ".py",
   "mimetype": "text/x-python",
   "name": "python",
   "nbconvert_exporter": "python",
   "pygments_lexer": "ipython3",
   "version": "3.7.2"
  },
  "vscode": {
   "interpreter": {
    "hash": "d7d35acb74f78189ca437efe66d1a44b8657deb4845bc36078023c0524fe8662"
   }
  }
 },
 "nbformat": 4,
 "nbformat_minor": 5
}
