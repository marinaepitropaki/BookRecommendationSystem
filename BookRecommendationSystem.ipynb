{
 "cells": [
  {
   "cell_type": "markdown",
   "id": "55294ffd",
   "metadata": {},
   "source": [
    "# Data Loading and Cleaning"
   ]
  },
  {
   "cell_type": "code",
   "execution_count": 56,
   "id": "fdbbcf79",
   "metadata": {},
   "outputs": [],
   "source": [
    "# imports\n",
    "import pandas as pd\n",
    "import seaborn as sb\n",
    "import matplotlib.pyplot as plt"
   ]
  },
  {
   "cell_type": "code",
   "execution_count": 57,
   "id": "dbeaa608",
   "metadata": {},
   "outputs": [],
   "source": [
    "# Loading csv with preprocessed data\n",
    "df = pd.read_csv('/Users/mep/Desktop/mep/CompTools/BookRecommendationSystem/Preprocessed_data.csv')\n",
    "\n",
    "# Cleaning the data\n",
    "# Removing zero ratings\n",
    "df = df[df['rating'] != 0]"
   ]
  },
  {
   "cell_type": "code",
   "execution_count": 58,
   "id": "f305eb50",
   "metadata": {},
   "outputs": [],
   "source": [
    "# Removing image_url columns because we will not use it.\n",
    "df = df.drop(['img_s'], axis=1)\n",
    "df = df.drop(['img_m'], axis=1)\n",
    "df = df.drop(['img_l'], axis=1)\n",
    "df = df.dropna()"
   ]
  },
  {
   "cell_type": "code",
   "execution_count": 60,
   "id": "09f51513",
   "metadata": {},
   "outputs": [
    {
     "data": {
      "text/html": [
       "<div>\n",
       "<style scoped>\n",
       "    .dataframe tbody tr th:only-of-type {\n",
       "        vertical-align: middle;\n",
       "    }\n",
       "\n",
       "    .dataframe tbody tr th {\n",
       "        vertical-align: top;\n",
       "    }\n",
       "\n",
       "    .dataframe thead th {\n",
       "        text-align: right;\n",
       "    }\n",
       "</style>\n",
       "<table border=\"1\" class=\"dataframe\">\n",
       "  <thead>\n",
       "    <tr style=\"text-align: right;\">\n",
       "      <th></th>\n",
       "      <th>Unnamed: 0</th>\n",
       "      <th>user_id</th>\n",
       "      <th>location</th>\n",
       "      <th>age</th>\n",
       "      <th>isbn</th>\n",
       "      <th>rating</th>\n",
       "      <th>book_title</th>\n",
       "      <th>book_author</th>\n",
       "      <th>year_of_publication</th>\n",
       "      <th>publisher</th>\n",
       "      <th>Summary</th>\n",
       "      <th>Language</th>\n",
       "      <th>Category</th>\n",
       "      <th>city</th>\n",
       "      <th>state</th>\n",
       "      <th>country</th>\n",
       "    </tr>\n",
       "  </thead>\n",
       "  <tbody>\n",
       "    <tr>\n",
       "      <th>1</th>\n",
       "      <td>1</td>\n",
       "      <td>8</td>\n",
       "      <td>timmins, ontario, canada</td>\n",
       "      <td>34.7439</td>\n",
       "      <td>0002005018</td>\n",
       "      <td>5</td>\n",
       "      <td>Clara Callan</td>\n",
       "      <td>Richard Bruce Wright</td>\n",
       "      <td>2001.0</td>\n",
       "      <td>HarperFlamingo Canada</td>\n",
       "      <td>In a small town in Canada, Clara Callan reluct...</td>\n",
       "      <td>en</td>\n",
       "      <td>['Actresses']</td>\n",
       "      <td>timmins</td>\n",
       "      <td>ontario</td>\n",
       "      <td>canada</td>\n",
       "    </tr>\n",
       "    <tr>\n",
       "      <th>5</th>\n",
       "      <td>5</td>\n",
       "      <td>67544</td>\n",
       "      <td>toronto, ontario, canada</td>\n",
       "      <td>30.0000</td>\n",
       "      <td>0002005018</td>\n",
       "      <td>8</td>\n",
       "      <td>Clara Callan</td>\n",
       "      <td>Richard Bruce Wright</td>\n",
       "      <td>2001.0</td>\n",
       "      <td>HarperFlamingo Canada</td>\n",
       "      <td>In a small town in Canada, Clara Callan reluct...</td>\n",
       "      <td>en</td>\n",
       "      <td>['Actresses']</td>\n",
       "      <td>toronto</td>\n",
       "      <td>ontario</td>\n",
       "      <td>canada</td>\n",
       "    </tr>\n",
       "    <tr>\n",
       "      <th>9</th>\n",
       "      <td>9</td>\n",
       "      <td>123629</td>\n",
       "      <td>kingston, ontario, canada</td>\n",
       "      <td>34.7439</td>\n",
       "      <td>0002005018</td>\n",
       "      <td>9</td>\n",
       "      <td>Clara Callan</td>\n",
       "      <td>Richard Bruce Wright</td>\n",
       "      <td>2001.0</td>\n",
       "      <td>HarperFlamingo Canada</td>\n",
       "      <td>In a small town in Canada, Clara Callan reluct...</td>\n",
       "      <td>en</td>\n",
       "      <td>['Actresses']</td>\n",
       "      <td>kingston</td>\n",
       "      <td>ontario</td>\n",
       "      <td>canada</td>\n",
       "    </tr>\n",
       "    <tr>\n",
       "      <th>11</th>\n",
       "      <td>11</td>\n",
       "      <td>200273</td>\n",
       "      <td>comber, ontario, canada</td>\n",
       "      <td>34.7439</td>\n",
       "      <td>0002005018</td>\n",
       "      <td>8</td>\n",
       "      <td>Clara Callan</td>\n",
       "      <td>Richard Bruce Wright</td>\n",
       "      <td>2001.0</td>\n",
       "      <td>HarperFlamingo Canada</td>\n",
       "      <td>In a small town in Canada, Clara Callan reluct...</td>\n",
       "      <td>en</td>\n",
       "      <td>['Actresses']</td>\n",
       "      <td>comber</td>\n",
       "      <td>ontario</td>\n",
       "      <td>canada</td>\n",
       "    </tr>\n",
       "    <tr>\n",
       "      <th>12</th>\n",
       "      <td>12</td>\n",
       "      <td>210926</td>\n",
       "      <td>guelph, ontario, canada</td>\n",
       "      <td>34.7439</td>\n",
       "      <td>0002005018</td>\n",
       "      <td>9</td>\n",
       "      <td>Clara Callan</td>\n",
       "      <td>Richard Bruce Wright</td>\n",
       "      <td>2001.0</td>\n",
       "      <td>HarperFlamingo Canada</td>\n",
       "      <td>In a small town in Canada, Clara Callan reluct...</td>\n",
       "      <td>en</td>\n",
       "      <td>['Actresses']</td>\n",
       "      <td>guelph</td>\n",
       "      <td>ontario</td>\n",
       "      <td>canada</td>\n",
       "    </tr>\n",
       "  </tbody>\n",
       "</table>\n",
       "</div>"
      ],
      "text/plain": [
       "    Unnamed: 0  user_id                   location      age        isbn  \\\n",
       "1            1        8   timmins, ontario, canada  34.7439  0002005018   \n",
       "5            5    67544   toronto, ontario, canada  30.0000  0002005018   \n",
       "9            9   123629  kingston, ontario, canada  34.7439  0002005018   \n",
       "11          11   200273    comber, ontario, canada  34.7439  0002005018   \n",
       "12          12   210926    guelph, ontario, canada  34.7439  0002005018   \n",
       "\n",
       "    rating    book_title           book_author  year_of_publication  \\\n",
       "1        5  Clara Callan  Richard Bruce Wright               2001.0   \n",
       "5        8  Clara Callan  Richard Bruce Wright               2001.0   \n",
       "9        9  Clara Callan  Richard Bruce Wright               2001.0   \n",
       "11       8  Clara Callan  Richard Bruce Wright               2001.0   \n",
       "12       9  Clara Callan  Richard Bruce Wright               2001.0   \n",
       "\n",
       "                publisher                                            Summary  \\\n",
       "1   HarperFlamingo Canada  In a small town in Canada, Clara Callan reluct...   \n",
       "5   HarperFlamingo Canada  In a small town in Canada, Clara Callan reluct...   \n",
       "9   HarperFlamingo Canada  In a small town in Canada, Clara Callan reluct...   \n",
       "11  HarperFlamingo Canada  In a small town in Canada, Clara Callan reluct...   \n",
       "12  HarperFlamingo Canada  In a small town in Canada, Clara Callan reluct...   \n",
       "\n",
       "   Language       Category      city    state country  \n",
       "1        en  ['Actresses']   timmins  ontario  canada  \n",
       "5        en  ['Actresses']   toronto  ontario  canada  \n",
       "9        en  ['Actresses']  kingston  ontario  canada  \n",
       "11       en  ['Actresses']    comber  ontario  canada  \n",
       "12       en  ['Actresses']    guelph  ontario  canada  "
      ]
     },
     "execution_count": 60,
     "metadata": {},
     "output_type": "execute_result"
    }
   ],
   "source": [
    "df.head()"
   ]
  },
  {
   "cell_type": "code",
   "execution_count": 61,
   "id": "e43202b1",
   "metadata": {},
   "outputs": [],
   "source": [
    "df.to_csv('Preprocessed_data_cleaned.csv', index=False)"
   ]
  },
  {
   "cell_type": "code",
   "execution_count": 20,
   "id": "d3a204cb",
   "metadata": {},
   "outputs": [],
   "source": [
    "# From now on we can work with df or load from the beggining \n",
    "# the Preprocessed_data_cleaned.csv file"
   ]
  },
  {
   "cell_type": "markdown",
   "id": "0ced6bdf",
   "metadata": {},
   "source": [
    "-------------------------------------------------------------------\n",
    "# Demographic Filtering"
   ]
  },
  {
   "cell_type": "code",
   "execution_count": null,
   "id": "316b794c",
   "metadata": {},
   "outputs": [],
   "source": [
    "# Loading csv with preprocessed data cleaned\n",
    "# Here add your path to the Preprocessed_data_cleaned.csv file!\n",
    "# You just need to run the first and this cell from now on everytime you want to run\n",
    "# the code\n",
    "df_cleaned = pd.read_csv('/Users/mep/Desktop/mep/CompTools/BookRecommendationSystem/Preprocessed_data_cleaned.csv')"
   ]
  },
  {
   "cell_type": "markdown",
   "id": "525fe930",
   "metadata": {},
   "source": [
    "-----------------------------------------------------------\n",
    "# Content Filtering"
   ]
  },
  {
   "cell_type": "code",
   "execution_count": null,
   "id": "54690661",
   "metadata": {},
   "outputs": [],
   "source": [
    "# Loading csv with preprocessed data cleaned\n",
    "# Here add your path to the Preprocessed_data_cleaned.csv file!\n",
    "# You just need to run the first and this cell from now on everytime you want to run\n",
    "# the code\n",
    "df_cleaned = pd.read_csv('/Users/mep/Desktop/mep/CompTools/BookRecommendationSystem/Preprocessed_data_cleaned.csv')"
   ]
  },
  {
   "cell_type": "markdown",
   "id": "1b0d6331",
   "metadata": {},
   "source": [
    "--------------------------------------------------------------------------------\n",
    "# Collaborative Filtering"
   ]
  },
  {
   "cell_type": "code",
   "execution_count": null,
   "id": "959e0c36",
   "metadata": {},
   "outputs": [],
   "source": [
    "# Loading csv with preprocessed data cleaned\n",
    "# Here add your path to the Preprocessed_data_cleaned.csv file!\n",
    "# You just need to run the first and this cell from now on everytime you want to run\n",
    "# the code\n",
    "df_cleaned = pd.read_csv('/Users/mep/Desktop/mep/CompTools/BookRecommendationSystem/Preprocessed_data_cleaned.csv')"
   ]
  },
  {
   "cell_type": "code",
   "execution_count": null,
   "id": "18075664",
   "metadata": {},
   "outputs": [],
   "source": []
  }
 ],
 "metadata": {
  "kernelspec": {
   "display_name": "Python 3 (ipykernel)",
   "language": "python",
   "name": "python3"
  },
  "language_info": {
   "codemirror_mode": {
    "name": "ipython",
    "version": 3
   },
   "file_extension": ".py",
   "mimetype": "text/x-python",
   "name": "python",
   "nbconvert_exporter": "python",
   "pygments_lexer": "ipython3",
   "version": "3.9.12"
  }
 },
 "nbformat": 4,
 "nbformat_minor": 5
}
