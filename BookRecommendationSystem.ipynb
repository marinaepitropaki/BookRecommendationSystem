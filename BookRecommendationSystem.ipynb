{
 "cells": [
  {
   "cell_type": "markdown",
   "id": "d444f82e",
   "metadata": {},
   "source": [
    "# Book Recommendation Systems\n",
    "### 02807 Computational tools for Data Science  \n",
    "#### By Lukas A. G. Mittun (s204174), Styliani Kalyva (s222752), Marina Epitropaki (s222727) & Àiax Faura Vilalta (s222703)\n",
    "-----------------"
   ]
  },
  {
   "cell_type": "code",
   "execution_count": 1,
   "id": "fdbbcf79",
   "metadata": {},
   "outputs": [],
   "source": [
    "# imports\n",
    "import pandas as pd\n",
    "import seaborn as sb\n",
    "import matplotlib.pyplot as plt\n",
    "from collections import Counter\n",
    "import numpy as np\n",
    "import os\n",
    "import sklearn\n",
    "import string as str\n",
    "import re\n",
    "import nltk\n",
    "from nltk.corpus import stopwords\n",
    "from nltk.tokenize import word_tokenize\n",
    "from ast import literal_eval"
   ]
  },
  {
   "cell_type": "markdown",
   "id": "9826c213",
   "metadata": {},
   "source": [
    "# Data Loading and Cleaning\n",
    "Our initial dataframe is \"Preprocessed_data.csv\". It contained plenty of extra data we wouldn’t use, so we cleaned it by removing rows with zero votes because they would cause non equal handling. Then we removed columns that contained images and all rows that contained at least a null response and narrowed it down. In each method, either we created new data frames from it, according to our needs or we cleaned the data further."
   ]
  },
  {
   "cell_type": "code",
   "execution_count": 2,
   "id": "dbeaa608",
   "metadata": {},
   "outputs": [],
   "source": [
    "# Loading csv with preprocessed data\n",
    "df = pd.read_csv('Preprocessed_data.csv')\n",
    "\n",
    "# Cleaning the data\n",
    "# Removing zero ratings\n",
    "df = df[df['rating'] != 0]"
   ]
  },
  {
   "cell_type": "code",
   "execution_count": 3,
   "id": "f305eb50",
   "metadata": {},
   "outputs": [],
   "source": [
    "# Removing image_url columns because we will not use it.\n",
    "df = df.drop(['img_s'], axis=1)\n",
    "df = df.drop(['img_m'], axis=1)\n",
    "df = df.drop(['img_l'], axis=1)\n",
    "df = df.dropna()\n",
    "df = df.reset_index(drop=True)"
   ]
  },
  {
   "cell_type": "code",
   "execution_count": 4,
   "id": "09f51513",
   "metadata": {},
   "outputs": [
    {
     "data": {
      "text/html": [
       "<div>\n",
       "<style scoped>\n",
       "    .dataframe tbody tr th:only-of-type {\n",
       "        vertical-align: middle;\n",
       "    }\n",
       "\n",
       "    .dataframe tbody tr th {\n",
       "        vertical-align: top;\n",
       "    }\n",
       "\n",
       "    .dataframe thead th {\n",
       "        text-align: right;\n",
       "    }\n",
       "</style>\n",
       "<table border=\"1\" class=\"dataframe\">\n",
       "  <thead>\n",
       "    <tr style=\"text-align: right;\">\n",
       "      <th></th>\n",
       "      <th>Unnamed: 0</th>\n",
       "      <th>user_id</th>\n",
       "      <th>location</th>\n",
       "      <th>age</th>\n",
       "      <th>isbn</th>\n",
       "      <th>rating</th>\n",
       "      <th>book_title</th>\n",
       "      <th>book_author</th>\n",
       "      <th>year_of_publication</th>\n",
       "      <th>publisher</th>\n",
       "      <th>Summary</th>\n",
       "      <th>Language</th>\n",
       "      <th>Category</th>\n",
       "      <th>city</th>\n",
       "      <th>state</th>\n",
       "      <th>country</th>\n",
       "    </tr>\n",
       "  </thead>\n",
       "  <tbody>\n",
       "    <tr>\n",
       "      <th>0</th>\n",
       "      <td>1</td>\n",
       "      <td>8</td>\n",
       "      <td>timmins, ontario, canada</td>\n",
       "      <td>34.7439</td>\n",
       "      <td>0002005018</td>\n",
       "      <td>5</td>\n",
       "      <td>Clara Callan</td>\n",
       "      <td>Richard Bruce Wright</td>\n",
       "      <td>2001.0</td>\n",
       "      <td>HarperFlamingo Canada</td>\n",
       "      <td>In a small town in Canada, Clara Callan reluct...</td>\n",
       "      <td>en</td>\n",
       "      <td>['Actresses']</td>\n",
       "      <td>timmins</td>\n",
       "      <td>ontario</td>\n",
       "      <td>canada</td>\n",
       "    </tr>\n",
       "    <tr>\n",
       "      <th>1</th>\n",
       "      <td>5</td>\n",
       "      <td>67544</td>\n",
       "      <td>toronto, ontario, canada</td>\n",
       "      <td>30.0000</td>\n",
       "      <td>0002005018</td>\n",
       "      <td>8</td>\n",
       "      <td>Clara Callan</td>\n",
       "      <td>Richard Bruce Wright</td>\n",
       "      <td>2001.0</td>\n",
       "      <td>HarperFlamingo Canada</td>\n",
       "      <td>In a small town in Canada, Clara Callan reluct...</td>\n",
       "      <td>en</td>\n",
       "      <td>['Actresses']</td>\n",
       "      <td>toronto</td>\n",
       "      <td>ontario</td>\n",
       "      <td>canada</td>\n",
       "    </tr>\n",
       "    <tr>\n",
       "      <th>2</th>\n",
       "      <td>9</td>\n",
       "      <td>123629</td>\n",
       "      <td>kingston, ontario, canada</td>\n",
       "      <td>34.7439</td>\n",
       "      <td>0002005018</td>\n",
       "      <td>9</td>\n",
       "      <td>Clara Callan</td>\n",
       "      <td>Richard Bruce Wright</td>\n",
       "      <td>2001.0</td>\n",
       "      <td>HarperFlamingo Canada</td>\n",
       "      <td>In a small town in Canada, Clara Callan reluct...</td>\n",
       "      <td>en</td>\n",
       "      <td>['Actresses']</td>\n",
       "      <td>kingston</td>\n",
       "      <td>ontario</td>\n",
       "      <td>canada</td>\n",
       "    </tr>\n",
       "    <tr>\n",
       "      <th>3</th>\n",
       "      <td>11</td>\n",
       "      <td>200273</td>\n",
       "      <td>comber, ontario, canada</td>\n",
       "      <td>34.7439</td>\n",
       "      <td>0002005018</td>\n",
       "      <td>8</td>\n",
       "      <td>Clara Callan</td>\n",
       "      <td>Richard Bruce Wright</td>\n",
       "      <td>2001.0</td>\n",
       "      <td>HarperFlamingo Canada</td>\n",
       "      <td>In a small town in Canada, Clara Callan reluct...</td>\n",
       "      <td>en</td>\n",
       "      <td>['Actresses']</td>\n",
       "      <td>comber</td>\n",
       "      <td>ontario</td>\n",
       "      <td>canada</td>\n",
       "    </tr>\n",
       "    <tr>\n",
       "      <th>4</th>\n",
       "      <td>12</td>\n",
       "      <td>210926</td>\n",
       "      <td>guelph, ontario, canada</td>\n",
       "      <td>34.7439</td>\n",
       "      <td>0002005018</td>\n",
       "      <td>9</td>\n",
       "      <td>Clara Callan</td>\n",
       "      <td>Richard Bruce Wright</td>\n",
       "      <td>2001.0</td>\n",
       "      <td>HarperFlamingo Canada</td>\n",
       "      <td>In a small town in Canada, Clara Callan reluct...</td>\n",
       "      <td>en</td>\n",
       "      <td>['Actresses']</td>\n",
       "      <td>guelph</td>\n",
       "      <td>ontario</td>\n",
       "      <td>canada</td>\n",
       "    </tr>\n",
       "  </tbody>\n",
       "</table>\n",
       "</div>"
      ],
      "text/plain": [
       "   Unnamed: 0  user_id                   location      age        isbn  \\\n",
       "0           1        8   timmins, ontario, canada  34.7439  0002005018   \n",
       "1           5    67544   toronto, ontario, canada  30.0000  0002005018   \n",
       "2           9   123629  kingston, ontario, canada  34.7439  0002005018   \n",
       "3          11   200273    comber, ontario, canada  34.7439  0002005018   \n",
       "4          12   210926    guelph, ontario, canada  34.7439  0002005018   \n",
       "\n",
       "   rating    book_title           book_author  year_of_publication  \\\n",
       "0       5  Clara Callan  Richard Bruce Wright               2001.0   \n",
       "1       8  Clara Callan  Richard Bruce Wright               2001.0   \n",
       "2       9  Clara Callan  Richard Bruce Wright               2001.0   \n",
       "3       8  Clara Callan  Richard Bruce Wright               2001.0   \n",
       "4       9  Clara Callan  Richard Bruce Wright               2001.0   \n",
       "\n",
       "               publisher                                            Summary  \\\n",
       "0  HarperFlamingo Canada  In a small town in Canada, Clara Callan reluct...   \n",
       "1  HarperFlamingo Canada  In a small town in Canada, Clara Callan reluct...   \n",
       "2  HarperFlamingo Canada  In a small town in Canada, Clara Callan reluct...   \n",
       "3  HarperFlamingo Canada  In a small town in Canada, Clara Callan reluct...   \n",
       "4  HarperFlamingo Canada  In a small town in Canada, Clara Callan reluct...   \n",
       "\n",
       "  Language       Category      city    state country  \n",
       "0       en  ['Actresses']   timmins  ontario  canada  \n",
       "1       en  ['Actresses']   toronto  ontario  canada  \n",
       "2       en  ['Actresses']  kingston  ontario  canada  \n",
       "3       en  ['Actresses']    comber  ontario  canada  \n",
       "4       en  ['Actresses']    guelph  ontario  canada  "
      ]
     },
     "execution_count": 4,
     "metadata": {},
     "output_type": "execute_result"
    }
   ],
   "source": [
    "df.head(5)"
   ]
  },
  {
   "cell_type": "code",
   "execution_count": 5,
   "id": "e43202b1",
   "metadata": {},
   "outputs": [],
   "source": [
    "df.to_csv('Preprocessed_data_cleaned.csv', index=False)"
   ]
  },
  {
   "cell_type": "markdown",
   "id": "d741da56",
   "metadata": {},
   "source": [
    "From now on we can work with df or load from the beggining \n",
    "the Preprocessed_data_cleaned.csv file"
   ]
  },
  {
   "cell_type": "markdown",
   "id": "0ced6bdf",
   "metadata": {},
   "source": [
    "-------------------------------------------------------------------\n",
    "# Demographic Filtering\n",
    "We use this method to find the most popular books among all users and then by country."
   ]
  },
  {
   "cell_type": "markdown",
   "id": "6145cb8a",
   "metadata": {},
   "source": [
    "## Internationally: We will find the top rated books globally"
   ]
  },
  {
   "cell_type": "code",
   "execution_count": 6,
   "id": "316b794c",
   "metadata": {},
   "outputs": [],
   "source": [
    "# Loading csv with book rating data\n",
    "df_book_rating = pd.read_csv('BX-Book-Ratings.csv', sep=';',encoding= 'unicode_escape', engine='python')\n",
    "\n",
    "#turns column to int\n",
    "df_book_rating['Book-Rating']=[int(df_book_rating['Book-Rating'][rating].replace(\"'\", '')) for rating in range(len(df_book_rating['Book-Rating']))]\n",
    "\n",
    "# remove rows that have 0 as rating\n",
    "df_book_rating = df_book_rating[df_book_rating['Book-Rating'] != 0]\n",
    "df_book_rating=df_book_rating.reset_index(drop=True)\n",
    "df_book_rating['ISBN']=[df_book_rating['ISBN'][rating].replace(\"'\", '') for rating in range(len(df_book_rating['ISBN']))]"
   ]
  },
  {
   "cell_type": "markdown",
   "id": "3c05a68b",
   "metadata": {},
   "source": [
    "At this point we have cleaned and loaded the 2 dataframes that contain all the information we need to proceed.The 'Book-Ratings.csv' contains the ratings each user has appointed to books (the books are identified by ISBN). We will use this dataframe to calculate how many ratings each book has, as well as the average rating of each book. Also, we correlate these 2 values in a 'weighted rating score'. We explain how weighted rating score works in our report."
   ]
  },
  {
   "cell_type": "code",
   "execution_count": 7,
   "id": "fe6bc34b",
   "metadata": {},
   "outputs": [],
   "source": [
    "# counts the number of ratings and puts them in to new dataframe\n",
    "isbn_dict=Counter(df_book_rating['ISBN'])\n",
    "\n",
    "df_isbn_votecount = pd.DataFrame(list(isbn_dict.items()), columns = ['ISBN', 'Vote-Count'])"
   ]
  },
  {
   "cell_type": "markdown",
   "id": "b1866a87-8347-4775-b589-3efd07558e49",
   "metadata": {},
   "source": [
    "Below we find the values of the weighted rating score so that we can calculate it. For m, **the minimum votes required to be listed in the chart**, we use the 90% percentile cutoff for more accuracy."
   ]
  },
  {
   "cell_type": "code",
   "execution_count": 8,
   "id": "060e9736-76a5-469d-898d-aeb6f1c91456",
   "metadata": {
    "scrolled": true
   },
   "outputs": [
    {
     "name": "stdout",
     "output_type": "stream",
     "text": [
      "The cut-off is 4.0 and the cleaned dataframe contains 19918 rows.\n"
     ]
    }
   ],
   "source": [
    "m= df_isbn_votecount['Vote-Count'].quantile(0.9)\n",
    "\n",
    "isbn_votecount = df_isbn_votecount[df_isbn_votecount['Vote-Count'] >= m]\n",
    "isbn_votecount=isbn_votecount.reset_index(drop=True)\n",
    "\n",
    "print('The cut-off is {} and the cleaned dataframe contains {} rows.' .format(m,isbn_votecount.shape[0]))"
   ]
  },
  {
   "cell_type": "markdown",
   "id": "1f477818-51e3-4a52-a93c-3d357cf87584",
   "metadata": {},
   "source": [
    "Now we will calculate the **average rating of each book**."
   ]
  },
  {
   "cell_type": "code",
   "execution_count": 9,
   "id": "56357b08",
   "metadata": {
    "scrolled": true
   },
   "outputs": [
    {
     "data": {
      "text/html": [
       "<div>\n",
       "<style scoped>\n",
       "    .dataframe tbody tr th:only-of-type {\n",
       "        vertical-align: middle;\n",
       "    }\n",
       "\n",
       "    .dataframe tbody tr th {\n",
       "        vertical-align: top;\n",
       "    }\n",
       "\n",
       "    .dataframe thead th {\n",
       "        text-align: right;\n",
       "    }\n",
       "</style>\n",
       "<table border=\"1\" class=\"dataframe\">\n",
       "  <thead>\n",
       "    <tr style=\"text-align: right;\">\n",
       "      <th></th>\n",
       "      <th>ISBN</th>\n",
       "      <th>Vote-Count</th>\n",
       "      <th>Vote-Average</th>\n",
       "    </tr>\n",
       "  </thead>\n",
       "  <tbody>\n",
       "    <tr>\n",
       "      <th>0</th>\n",
       "      <td>3257224281</td>\n",
       "      <td>4</td>\n",
       "      <td>6.750000</td>\n",
       "    </tr>\n",
       "    <tr>\n",
       "      <th>1</th>\n",
       "      <td>038550120X</td>\n",
       "      <td>81</td>\n",
       "      <td>7.580247</td>\n",
       "    </tr>\n",
       "    <tr>\n",
       "      <th>2</th>\n",
       "      <td>0060517794</td>\n",
       "      <td>30</td>\n",
       "      <td>8.000000</td>\n",
       "    </tr>\n",
       "    <tr>\n",
       "      <th>3</th>\n",
       "      <td>0671537458</td>\n",
       "      <td>17</td>\n",
       "      <td>7.176471</td>\n",
       "    </tr>\n",
       "    <tr>\n",
       "      <th>4</th>\n",
       "      <td>0679776818</td>\n",
       "      <td>21</td>\n",
       "      <td>7.476190</td>\n",
       "    </tr>\n",
       "    <tr>\n",
       "      <th>...</th>\n",
       "      <td>...</td>\n",
       "      <td>...</td>\n",
       "      <td>...</td>\n",
       "    </tr>\n",
       "    <tr>\n",
       "      <th>19913</th>\n",
       "      <td>3250600571</td>\n",
       "      <td>4</td>\n",
       "      <td>9.000000</td>\n",
       "    </tr>\n",
       "    <tr>\n",
       "      <th>19914</th>\n",
       "      <td>0886775809</td>\n",
       "      <td>4</td>\n",
       "      <td>8.000000</td>\n",
       "    </tr>\n",
       "    <tr>\n",
       "      <th>19915</th>\n",
       "      <td>0375700110</td>\n",
       "      <td>4</td>\n",
       "      <td>6.500000</td>\n",
       "    </tr>\n",
       "    <tr>\n",
       "      <th>19916</th>\n",
       "      <td>0451450019</td>\n",
       "      <td>4</td>\n",
       "      <td>8.000000</td>\n",
       "    </tr>\n",
       "    <tr>\n",
       "      <th>19917</th>\n",
       "      <td>8489669414</td>\n",
       "      <td>4</td>\n",
       "      <td>6.000000</td>\n",
       "    </tr>\n",
       "  </tbody>\n",
       "</table>\n",
       "<p>19918 rows × 3 columns</p>\n",
       "</div>"
      ],
      "text/plain": [
       "             ISBN  Vote-Count  Vote-Average\n",
       "0      3257224281           4      6.750000\n",
       "1      038550120X          81      7.580247\n",
       "2      0060517794          30      8.000000\n",
       "3      0671537458          17      7.176471\n",
       "4      0679776818          21      7.476190\n",
       "...           ...         ...           ...\n",
       "19913  3250600571           4      9.000000\n",
       "19914  0886775809           4      8.000000\n",
       "19915  0375700110           4      6.500000\n",
       "19916  0451450019           4      8.000000\n",
       "19917  8489669414           4      6.000000\n",
       "\n",
       "[19918 rows x 3 columns]"
      ]
     },
     "execution_count": 9,
     "metadata": {},
     "output_type": "execute_result"
    }
   ],
   "source": [
    "#merging the dataframes\n",
    "df_custom_rating= pd.merge(isbn_votecount,df_book_rating, how='inner', on=['ISBN'])\n",
    "\n",
    "#Crearing out the user column because we don't need it\n",
    "df_custom_rating= df_custom_rating.drop(columns='User-ID')\n",
    "\n",
    "#Calculates the mean value of all the row with the same ISBN, hence the average rating which is put to the column 'Vote-Average'\n",
    "df_custom_rating['Vote-Average'] = df_custom_rating['Book-Rating'].groupby(df_custom_rating['ISBN']).transform('mean')\n",
    "\n",
    "#Deletes the duplicates and 'Book-Rating' column because we do not need them\n",
    "df_custom_rating =df_custom_rating.drop_duplicates(subset='ISBN', keep='first')\n",
    "df_custom_rating =df_custom_rating.drop(['Book-Rating'], axis=1)\n",
    "\n",
    "df_custom_rating.reset_index(drop=True)"
   ]
  },
  {
   "cell_type": "markdown",
   "id": "83fa7bd6-d60a-4bdc-81d3-dca1e4ec6ab5",
   "metadata": {},
   "source": [
    "Above we see the generated values for the average rating of each book. Now, it is time to calculate the **weighted score** mentioned before. For that we need the C value, which is the **mean vote across the dataframe**. Then we define a function according to the formula mentioned above and then we generate the weighted score for each book."
   ]
  },
  {
   "cell_type": "code",
   "execution_count": 10,
   "id": "d2754b6c",
   "metadata": {},
   "outputs": [
    {
     "name": "stdout",
     "output_type": "stream",
     "text": [
      "The value of C is: 7.653260512915499\n"
     ]
    }
   ],
   "source": [
    "C= df_custom_rating['Vote-Average'].mean()\n",
    "print('The value of C is: {}'.format(C))"
   ]
  },
  {
   "cell_type": "code",
   "execution_count": 11,
   "id": "7d829dac",
   "metadata": {},
   "outputs": [],
   "source": [
    "# Weighted score function\n",
    "\n",
    "def weighted_rating(votes_per_book, average_book_rating, m=m, C=C):\n",
    "    v = votes_per_book\n",
    "    R = average_book_rating\n",
    "    \n",
    "    return (v/(v+m) * R) + (m/(m+v) * C)"
   ]
  },
  {
   "cell_type": "markdown",
   "id": "7ff69b06",
   "metadata": {},
   "source": [
    "Then, we add the weighted rating score to our dataframe."
   ]
  },
  {
   "cell_type": "code",
   "execution_count": 12,
   "id": "08ce1cf6",
   "metadata": {},
   "outputs": [
    {
     "data": {
      "text/html": [
       "<div>\n",
       "<style scoped>\n",
       "    .dataframe tbody tr th:only-of-type {\n",
       "        vertical-align: middle;\n",
       "    }\n",
       "\n",
       "    .dataframe tbody tr th {\n",
       "        vertical-align: top;\n",
       "    }\n",
       "\n",
       "    .dataframe thead th {\n",
       "        text-align: right;\n",
       "    }\n",
       "</style>\n",
       "<table border=\"1\" class=\"dataframe\">\n",
       "  <thead>\n",
       "    <tr style=\"text-align: right;\">\n",
       "      <th></th>\n",
       "      <th>ISBN</th>\n",
       "      <th>Vote-Count</th>\n",
       "      <th>Vote-Average</th>\n",
       "      <th>Score</th>\n",
       "    </tr>\n",
       "  </thead>\n",
       "  <tbody>\n",
       "    <tr>\n",
       "      <th>144901</th>\n",
       "      <td>0439425220</td>\n",
       "      <td>23</td>\n",
       "      <td>9.869565</td>\n",
       "      <td>9.541224</td>\n",
       "    </tr>\n",
       "    <tr>\n",
       "      <th>141498</th>\n",
       "      <td>0618002235</td>\n",
       "      <td>25</td>\n",
       "      <td>9.720000</td>\n",
       "      <td>9.434932</td>\n",
       "    </tr>\n",
       "    <tr>\n",
       "      <th>175300</th>\n",
       "      <td>0060256656</td>\n",
       "      <td>20</td>\n",
       "      <td>9.750000</td>\n",
       "      <td>9.400543</td>\n",
       "    </tr>\n",
       "    <tr>\n",
       "      <th>211100</th>\n",
       "      <td>0836213319</td>\n",
       "      <td>13</td>\n",
       "      <td>9.923077</td>\n",
       "      <td>9.389002</td>\n",
       "    </tr>\n",
       "    <tr>\n",
       "      <th>63913</th>\n",
       "      <td>8826703132</td>\n",
       "      <td>21</td>\n",
       "      <td>9.714286</td>\n",
       "      <td>9.384522</td>\n",
       "    </tr>\n",
       "    <tr>\n",
       "      <th>...</th>\n",
       "      <td>...</td>\n",
       "      <td>...</td>\n",
       "      <td>...</td>\n",
       "      <td>...</td>\n",
       "    </tr>\n",
       "    <tr>\n",
       "      <th>159321</th>\n",
       "      <td>3932069145</td>\n",
       "      <td>4</td>\n",
       "      <td>3.000000</td>\n",
       "      <td>5.326630</td>\n",
       "    </tr>\n",
       "    <tr>\n",
       "      <th>203380</th>\n",
       "      <td>1552781631</td>\n",
       "      <td>4</td>\n",
       "      <td>3.000000</td>\n",
       "      <td>5.326630</td>\n",
       "    </tr>\n",
       "    <tr>\n",
       "      <th>189493</th>\n",
       "      <td>349222539X</td>\n",
       "      <td>6</td>\n",
       "      <td>3.666667</td>\n",
       "      <td>5.261304</td>\n",
       "    </tr>\n",
       "    <tr>\n",
       "      <th>172663</th>\n",
       "      <td>1880985055</td>\n",
       "      <td>9</td>\n",
       "      <td>3.000000</td>\n",
       "      <td>4.431772</td>\n",
       "    </tr>\n",
       "    <tr>\n",
       "      <th>3896</th>\n",
       "      <td>0971880107</td>\n",
       "      <td>581</td>\n",
       "      <td>4.390706</td>\n",
       "      <td>4.413014</td>\n",
       "    </tr>\n",
       "  </tbody>\n",
       "</table>\n",
       "<p>19918 rows × 4 columns</p>\n",
       "</div>"
      ],
      "text/plain": [
       "              ISBN  Vote-Count  Vote-Average     Score\n",
       "144901  0439425220          23      9.869565  9.541224\n",
       "141498  0618002235          25      9.720000  9.434932\n",
       "175300  0060256656          20      9.750000  9.400543\n",
       "211100  0836213319          13      9.923077  9.389002\n",
       "63913   8826703132          21      9.714286  9.384522\n",
       "...            ...         ...           ...       ...\n",
       "159321  3932069145           4      3.000000  5.326630\n",
       "203380  1552781631           4      3.000000  5.326630\n",
       "189493  349222539X           6      3.666667  5.261304\n",
       "172663  1880985055           9      3.000000  4.431772\n",
       "3896    0971880107         581      4.390706  4.413014\n",
       "\n",
       "[19918 rows x 4 columns]"
      ]
     },
     "execution_count": 12,
     "metadata": {},
     "output_type": "execute_result"
    }
   ],
   "source": [
    "df_custom_rating['Score']= weighted_rating(df_custom_rating['Vote-Count'],df_custom_rating['Vote-Average'], m=m, C=C)\n",
    "\n",
    "df_custom_rating = df_custom_rating.sort_values('Score', ascending=False)\n",
    "df_custom_rating"
   ]
  },
  {
   "cell_type": "markdown",
   "id": "aa1a9880-6c16-43f9-a2a2-9c40a9b6f5d9",
   "metadata": {},
   "source": [
    "Above we see the generated values for the weighted score. It would be nice, however, if we could see which book they are refering to without having to search with the ISBN code. For this reason we add the 'BX_Books.csv as a dataframe, which contains the titles of the books according to their ISBN, amongst other information as well. With this dataframe we can link the title of each book and display it on the above dataframe."
   ]
  },
  {
   "cell_type": "code",
   "execution_count": 13,
   "id": "06151821-81e6-482d-94b6-9aff993bb031",
   "metadata": {},
   "outputs": [
    {
     "data": {
      "text/html": [
       "<div>\n",
       "<style scoped>\n",
       "    .dataframe tbody tr th:only-of-type {\n",
       "        vertical-align: middle;\n",
       "    }\n",
       "\n",
       "    .dataframe tbody tr th {\n",
       "        vertical-align: top;\n",
       "    }\n",
       "\n",
       "    .dataframe thead th {\n",
       "        text-align: right;\n",
       "    }\n",
       "</style>\n",
       "<table border=\"1\" class=\"dataframe\">\n",
       "  <thead>\n",
       "    <tr style=\"text-align: right;\">\n",
       "      <th></th>\n",
       "      <th>ISBN</th>\n",
       "      <th>Book-Title</th>\n",
       "      <th>Vote-Count</th>\n",
       "      <th>Vote-Average</th>\n",
       "      <th>Score</th>\n",
       "    </tr>\n",
       "  </thead>\n",
       "  <tbody>\n",
       "    <tr>\n",
       "      <th>0</th>\n",
       "      <td>0316666343</td>\n",
       "      <td>'The Lovely Bones: A Novel'</td>\n",
       "      <td>707</td>\n",
       "      <td>8.185290</td>\n",
       "      <td>8.182297</td>\n",
       "    </tr>\n",
       "    <tr>\n",
       "      <th>1</th>\n",
       "      <td>0971880107</td>\n",
       "      <td>'Wild Animus'</td>\n",
       "      <td>581</td>\n",
       "      <td>4.390706</td>\n",
       "      <td>4.413014</td>\n",
       "    </tr>\n",
       "    <tr>\n",
       "      <th>2</th>\n",
       "      <td>0385504209</td>\n",
       "      <td>'The Da Vinci Code'</td>\n",
       "      <td>487</td>\n",
       "      <td>8.435318</td>\n",
       "      <td>8.428947</td>\n",
       "    </tr>\n",
       "    <tr>\n",
       "      <th>3</th>\n",
       "      <td>0312195516</td>\n",
       "      <td>'The Red Tent (Bestselling Backlist)'</td>\n",
       "      <td>383</td>\n",
       "      <td>8.182768</td>\n",
       "      <td>8.177295</td>\n",
       "    </tr>\n",
       "    <tr>\n",
       "      <th>4</th>\n",
       "      <td>0060928336</td>\n",
       "      <td>'Divine Secrets of the Ya-Ya Sisterhood: A Novel'</td>\n",
       "      <td>320</td>\n",
       "      <td>7.887500</td>\n",
       "      <td>7.884608</td>\n",
       "    </tr>\n",
       "    <tr>\n",
       "      <th>...</th>\n",
       "      <td>...</td>\n",
       "      <td>...</td>\n",
       "      <td>...</td>\n",
       "      <td>...</td>\n",
       "      <td>...</td>\n",
       "    </tr>\n",
       "    <tr>\n",
       "      <th>18695</th>\n",
       "      <td>0486280500</td>\n",
       "      <td>'A Portrait of the Artist As a Young Man (Dove...</td>\n",
       "      <td>4</td>\n",
       "      <td>7.250000</td>\n",
       "      <td>7.451630</td>\n",
       "    </tr>\n",
       "    <tr>\n",
       "      <th>18696</th>\n",
       "      <td>0140421998</td>\n",
       "      <td>'Leaves of Grass (Penguin Classics)'</td>\n",
       "      <td>4</td>\n",
       "      <td>7.750000</td>\n",
       "      <td>7.701630</td>\n",
       "    </tr>\n",
       "    <tr>\n",
       "      <th>18697</th>\n",
       "      <td>0864425295</td>\n",
       "      <td>'Brief Encounters: stories of love, sex &amp; travel'</td>\n",
       "      <td>4</td>\n",
       "      <td>6.500000</td>\n",
       "      <td>7.076630</td>\n",
       "    </tr>\n",
       "    <tr>\n",
       "      <th>18698</th>\n",
       "      <td>0395401461</td>\n",
       "      <td>'Miss Nelson Is Missing!'</td>\n",
       "      <td>4</td>\n",
       "      <td>7.500000</td>\n",
       "      <td>7.576630</td>\n",
       "    </tr>\n",
       "    <tr>\n",
       "      <th>18699</th>\n",
       "      <td>0394757645</td>\n",
       "      <td>'Trouble Is My Business (Vintage Crime/Black L...</td>\n",
       "      <td>4</td>\n",
       "      <td>7.750000</td>\n",
       "      <td>7.701630</td>\n",
       "    </tr>\n",
       "  </tbody>\n",
       "</table>\n",
       "<p>18700 rows × 5 columns</p>\n",
       "</div>"
      ],
      "text/plain": [
       "             ISBN                                         Book-Title  \\\n",
       "0      0316666343                        'The Lovely Bones: A Novel'   \n",
       "1      0971880107                                      'Wild Animus'   \n",
       "2      0385504209                                'The Da Vinci Code'   \n",
       "3      0312195516              'The Red Tent (Bestselling Backlist)'   \n",
       "4      0060928336  'Divine Secrets of the Ya-Ya Sisterhood: A Novel'   \n",
       "...           ...                                                ...   \n",
       "18695  0486280500  'A Portrait of the Artist As a Young Man (Dove...   \n",
       "18696  0140421998               'Leaves of Grass (Penguin Classics)'   \n",
       "18697  0864425295  'Brief Encounters: stories of love, sex & travel'   \n",
       "18698  0395401461                          'Miss Nelson Is Missing!'   \n",
       "18699  0394757645  'Trouble Is My Business (Vintage Crime/Black L...   \n",
       "\n",
       "       Vote-Count  Vote-Average     Score  \n",
       "0             707      8.185290  8.182297  \n",
       "1             581      4.390706  4.413014  \n",
       "2             487      8.435318  8.428947  \n",
       "3             383      8.182768  8.177295  \n",
       "4             320      7.887500  7.884608  \n",
       "...           ...           ...       ...  \n",
       "18695           4      7.250000  7.451630  \n",
       "18696           4      7.750000  7.701630  \n",
       "18697           4      6.500000  7.076630  \n",
       "18698           4      7.500000  7.576630  \n",
       "18699           4      7.750000  7.701630  \n",
       "\n",
       "[18700 rows x 5 columns]"
      ]
     },
     "execution_count": 13,
     "metadata": {},
     "output_type": "execute_result"
    }
   ],
   "source": [
    "books_df=pd.read_csv('BX_Books.csv', sep=';',encoding= 'unicode_escape', engine='python')\n",
    "\n",
    "books_df = books_df.drop(columns=[\"Unnamed: 5\",'Unnamed: 6', \"Unnamed: 7\",\"Unnamed: 8\", \"Unnamed: 9\"])\n",
    "\n",
    "#cleaning the punctuation off the words \n",
    "books_df[\"'ISBN'\"]=[books_df[\"'ISBN'\"][i].replace(\"'\", '') for i in range(len(books_df[\"'ISBN'\"]))]\n",
    "books_df= books_df.rename(columns={\"'ISBN'\": 'ISBN', \"'Book-Title'\": 'Book-Title'})\n",
    "\n",
    "#merging the information we need\n",
    "intersection_df = pd.merge(books_df,df_custom_rating, how='inner', on=['ISBN'])\n",
    "intersection_df = intersection_df.drop(columns=[\"'Book-Author'\",\"'Year-Of-Publication'\",\"'Publisher'\"])\n",
    "\n",
    "#passing the dataframe to csv so we can work with that later\n",
    "intersection_df.to_csv('Books_Votes_Score.csv', index=False)\n",
    "\n",
    "intersection_df = intersection_df.sort_values('Vote-Count', ascending=False)\n",
    "intersection_df=intersection_df.reset_index(drop=True)\n",
    "intersection_df"
   ]
  },
  {
   "cell_type": "code",
   "execution_count": 14,
   "id": "e2420938",
   "metadata": {
    "scrolled": true
   },
   "outputs": [],
   "source": [
    "intersection_df = intersection_df.sort_values('Score', ascending=False)\n",
    "intersection_df=intersection_df.reset_index(drop=True)"
   ]
  },
  {
   "cell_type": "markdown",
   "id": "d38c8f84",
   "metadata": {},
   "source": [
    "So, below we present the **top 10 rated books globally** according to the user ratings of our dataset."
   ]
  },
  {
   "cell_type": "code",
   "execution_count": 15,
   "id": "52ca892a",
   "metadata": {
    "scrolled": true
   },
   "outputs": [
    {
     "data": {
      "text/plain": [
       "[Text(0.5, 1.0, 'Top 10 recommended books ever!'), (8.0, 10.0)]"
      ]
     },
     "execution_count": 15,
     "metadata": {},
     "output_type": "execute_result"
    },
    {
     "data": {
      "image/png": "[encoded data removed]",
      "text/plain": [
       "<Figure size 432x288 with 1 Axes>"
      ]
     },
     "metadata": {
      "needs_background": "light"
     },
     "output_type": "display_data"
    }
   ],
   "source": [
    "top_10= intersection_df.head(10)\n",
    "sb.barplot(x = \"Score\", y = \"Book-Title\", data = top_10).set(title = \"Top 10 recommended books ever!\",xlim=(8,10))"
   ]
  },
  {
   "cell_type": "markdown",
   "id": "200bb05e",
   "metadata": {},
   "source": [
    "So, according to the users of this dataset, wherever you are from, make sure to read these books first!"
   ]
  },
  {
   "cell_type": "markdown",
   "id": "a3af1d6e-00ef-4d52-836b-0c83c35c2701",
   "metadata": {},
   "source": [
    "## By country: We will find the top rated books depending on the country of the user."
   ]
  },
  {
   "cell_type": "markdown",
   "id": "76fc5ebc",
   "metadata": {},
   "source": [
    "Next we find the top books by country. Is essentially the same as above however we implement it by adding an extra column and joining the isbn with the country in order to create the popularity demographic diagrams."
   ]
  },
  {
   "cell_type": "code",
   "execution_count": 16,
   "id": "11ca23e9-0ecc-4623-9c01-209cf088c8ea",
   "metadata": {},
   "outputs": [
    {
     "data": {
      "text/html": [
       "<div>\n",
       "<style scoped>\n",
       "    .dataframe tbody tr th:only-of-type {\n",
       "        vertical-align: middle;\n",
       "    }\n",
       "\n",
       "    .dataframe tbody tr th {\n",
       "        vertical-align: top;\n",
       "    }\n",
       "\n",
       "    .dataframe thead th {\n",
       "        text-align: right;\n",
       "    }\n",
       "</style>\n",
       "<table border=\"1\" class=\"dataframe\">\n",
       "  <thead>\n",
       "    <tr style=\"text-align: right;\">\n",
       "      <th></th>\n",
       "      <th>age</th>\n",
       "      <th>isbn</th>\n",
       "      <th>rating</th>\n",
       "      <th>book_title</th>\n",
       "      <th>book_author</th>\n",
       "      <th>country</th>\n",
       "    </tr>\n",
       "  </thead>\n",
       "  <tbody>\n",
       "    <tr>\n",
       "      <th>0</th>\n",
       "      <td>33.0000</td>\n",
       "      <td>0140310657</td>\n",
       "      <td>10</td>\n",
       "      <td>The TV Kid (Puffin Books)</td>\n",
       "      <td>Betsy Byars</td>\n",
       "      <td>australia</td>\n",
       "    </tr>\n",
       "    <tr>\n",
       "      <th>1</th>\n",
       "      <td>14.0000</td>\n",
       "      <td>0713100788</td>\n",
       "      <td>9</td>\n",
       "      <td>Discovering Greek Mythology (Woburn Educationa...</td>\n",
       "      <td>P. Kenneth Corsar</td>\n",
       "      <td>australia</td>\n",
       "    </tr>\n",
       "    <tr>\n",
       "      <th>2</th>\n",
       "      <td>33.0000</td>\n",
       "      <td>0140328262</td>\n",
       "      <td>10</td>\n",
       "      <td>The Paw Thing (Puffin Books)</td>\n",
       "      <td>Paul Jennings</td>\n",
       "      <td>australia</td>\n",
       "    </tr>\n",
       "    <tr>\n",
       "      <th>3</th>\n",
       "      <td>13.0000</td>\n",
       "      <td>0340634448</td>\n",
       "      <td>5</td>\n",
       "      <td>The Cowboy Guide</td>\n",
       "      <td>Wayne Caba</td>\n",
       "      <td>australia</td>\n",
       "    </tr>\n",
       "    <tr>\n",
       "      <th>4</th>\n",
       "      <td>18.0000</td>\n",
       "      <td>0590454471</td>\n",
       "      <td>2</td>\n",
       "      <td>Picklemania (School Daze)</td>\n",
       "      <td>Jerry Spinelli</td>\n",
       "      <td>australia</td>\n",
       "    </tr>\n",
       "    <tr>\n",
       "      <th>...</th>\n",
       "      <td>...</td>\n",
       "      <td>...</td>\n",
       "      <td>...</td>\n",
       "      <td>...</td>\n",
       "      <td>...</td>\n",
       "      <td>...</td>\n",
       "    </tr>\n",
       "    <tr>\n",
       "      <th>359445</th>\n",
       "      <td>21.0000</td>\n",
       "      <td>185326895X</td>\n",
       "      <td>8</td>\n",
       "      <td>Complete Works of William Shakespeare (Wordswo...</td>\n",
       "      <td>William Shakespeare</td>\n",
       "      <td>yugoslavia</td>\n",
       "    </tr>\n",
       "    <tr>\n",
       "      <th>359446</th>\n",
       "      <td>34.7439</td>\n",
       "      <td>0671000306</td>\n",
       "      <td>8</td>\n",
       "      <td>Shock Wave (Dirk Pitt Adventures (Paperback))</td>\n",
       "      <td>Clive Cussler</td>\n",
       "      <td>yugoslavia</td>\n",
       "    </tr>\n",
       "    <tr>\n",
       "      <th>359447</th>\n",
       "      <td>20.0000</td>\n",
       "      <td>0971880107</td>\n",
       "      <td>3</td>\n",
       "      <td>Wild Animus</td>\n",
       "      <td>Rich Shapero</td>\n",
       "      <td>yugoslavia</td>\n",
       "    </tr>\n",
       "    <tr>\n",
       "      <th>359448</th>\n",
       "      <td>55.0000</td>\n",
       "      <td>0671042858</td>\n",
       "      <td>7</td>\n",
       "      <td>The Girl Who Loved Tom Gordon</td>\n",
       "      <td>Stephen King</td>\n",
       "      <td>zambia</td>\n",
       "    </tr>\n",
       "    <tr>\n",
       "      <th>359449</th>\n",
       "      <td>62.0000</td>\n",
       "      <td>0812544714</td>\n",
       "      <td>8</td>\n",
       "      <td>Scandal</td>\n",
       "      <td>Joanna Elm</td>\n",
       "      <td>zimbabwe</td>\n",
       "    </tr>\n",
       "  </tbody>\n",
       "</table>\n",
       "<p>359450 rows × 6 columns</p>\n",
       "</div>"
      ],
      "text/plain": [
       "            age        isbn  rating  \\\n",
       "0       33.0000  0140310657      10   \n",
       "1       14.0000  0713100788       9   \n",
       "2       33.0000  0140328262      10   \n",
       "3       13.0000  0340634448       5   \n",
       "4       18.0000  0590454471       2   \n",
       "...         ...         ...     ...   \n",
       "359445  21.0000  185326895X       8   \n",
       "359446  34.7439  0671000306       8   \n",
       "359447  20.0000  0971880107       3   \n",
       "359448  55.0000  0671042858       7   \n",
       "359449  62.0000  0812544714       8   \n",
       "\n",
       "                                               book_title  \\\n",
       "0                               The TV Kid (Puffin Books)   \n",
       "1       Discovering Greek Mythology (Woburn Educationa...   \n",
       "2                            The Paw Thing (Puffin Books)   \n",
       "3                                        The Cowboy Guide   \n",
       "4                               Picklemania (School Daze)   \n",
       "...                                                   ...   \n",
       "359445  Complete Works of William Shakespeare (Wordswo...   \n",
       "359446      Shock Wave (Dirk Pitt Adventures (Paperback))   \n",
       "359447                                        Wild Animus   \n",
       "359448                      The Girl Who Loved Tom Gordon   \n",
       "359449                                            Scandal   \n",
       "\n",
       "                book_author     country  \n",
       "0               Betsy Byars   australia  \n",
       "1         P. Kenneth Corsar   australia  \n",
       "2             Paul Jennings   australia  \n",
       "3                Wayne Caba   australia  \n",
       "4            Jerry Spinelli   australia  \n",
       "...                     ...         ...  \n",
       "359445  William Shakespeare  yugoslavia  \n",
       "359446        Clive Cussler  yugoslavia  \n",
       "359447         Rich Shapero  yugoslavia  \n",
       "359448         Stephen King      zambia  \n",
       "359449           Joanna Elm    zimbabwe  \n",
       "\n",
       "[359450 rows x 6 columns]"
      ]
     },
     "execution_count": 16,
     "metadata": {},
     "output_type": "execute_result"
    }
   ],
   "source": [
    "# Loading csv with preprocessed data cleaned\n",
    "# cleaning the dataset according to our needs\n",
    "df_cleaned = pd.read_csv('Preprocessed_data_cleaned.csv')\n",
    "\n",
    "df_cleaned = df_cleaned[df_cleaned['country'] != ',']\n",
    "df_cleaned = df_cleaned[df_cleaned['country'] != '\\\"n/a\\\"\"'] \n",
    "\n",
    "df_cleaned= df_cleaned.drop(columns=['user_id','Unnamed: 0','publisher','location','Language','Summary','year_of_publication','Category','city','state'])\n",
    "\n",
    "df_cleaned['country']=df_cleaned['country'].str.split(',').str[-1]\n",
    "df_cleaned['country']= df_cleaned['country'].replace(r' united kingdom',r'united kingdom')\n",
    "df_cleaned['country']= df_cleaned['country'].replace(r'\\\"n/a\\\"\"',r'unknown')\n",
    "df_cleaned= df_cleaned.sort_values(by=['country'],ascending=True)\n",
    "df_cleaned=df_cleaned.reset_index(drop=True)\n",
    "(df_cleaned['country']=='\\\"n/a\\\"\"').sum()\n",
    "df_cleaned\n"
   ]
  },
  {
   "cell_type": "code",
   "execution_count": 17,
   "id": "8282069f-6ddc-4a5e-9d11-0595e57d3b65",
   "metadata": {},
   "outputs": [],
   "source": [
    "df_cleaned[\"isbn-country\"] = df_cleaned[\"isbn\"] + '-'+ df_cleaned[\"country\"]"
   ]
  },
  {
   "cell_type": "code",
   "execution_count": 18,
   "id": "a29d4283",
   "metadata": {},
   "outputs": [],
   "source": [
    "#counts the number of ratings in each country and puts them in to new dataframe\n",
    "\n",
    "isbn_dict1=Counter(df_cleaned['isbn-country'])\n",
    "\n",
    "df_cleaned_isbn_votecount = pd.DataFrame(list(isbn_dict1.items()), columns = ['isbn-country', 'Vote-Count'])"
   ]
  },
  {
   "cell_type": "code",
   "execution_count": 19,
   "id": "dae06208",
   "metadata": {},
   "outputs": [
    {
     "name": "stdout",
     "output_type": "stream",
     "text": [
      "The cut-off is 3.0 and the cleaned dataframe contains 23448 rows.\n"
     ]
    }
   ],
   "source": [
    "m= df_cleaned_isbn_votecount['Vote-Count'].quantile(0.9)\n",
    "isbn_votecount_bycountry = df_cleaned_isbn_votecount[df_cleaned_isbn_votecount['Vote-Count'] >= m]\n",
    "isbn_votecount_bycountry=isbn_votecount_bycountry.reset_index(drop=True)\n",
    "print('The cut-off is {} and the cleaned dataframe contains {} rows.' .format(m,isbn_votecount_bycountry.shape[0]))"
   ]
  },
  {
   "cell_type": "code",
   "execution_count": 20,
   "id": "3d222b23-209c-4928-944f-585ce5eb1639",
   "metadata": {
    "scrolled": true
   },
   "outputs": [
    {
     "data": {
      "text/html": [
       "<div>\n",
       "<style scoped>\n",
       "    .dataframe tbody tr th:only-of-type {\n",
       "        vertical-align: middle;\n",
       "    }\n",
       "\n",
       "    .dataframe tbody tr th {\n",
       "        vertical-align: top;\n",
       "    }\n",
       "\n",
       "    .dataframe thead th {\n",
       "        text-align: right;\n",
       "    }\n",
       "</style>\n",
       "<table border=\"1\" class=\"dataframe\">\n",
       "  <thead>\n",
       "    <tr style=\"text-align: right;\">\n",
       "      <th></th>\n",
       "      <th>isbn-country</th>\n",
       "      <th>Vote-Count</th>\n",
       "      <th>age</th>\n",
       "      <th>isbn</th>\n",
       "      <th>book_title</th>\n",
       "      <th>book_author</th>\n",
       "      <th>country</th>\n",
       "      <th>Vote-Average-By-Country</th>\n",
       "    </tr>\n",
       "  </thead>\n",
       "  <tbody>\n",
       "    <tr>\n",
       "      <th>0</th>\n",
       "      <td>0091842050-australia</td>\n",
       "      <td>7</td>\n",
       "      <td>13.0000</td>\n",
       "      <td>0091842050</td>\n",
       "      <td>The Blue Day Book: A Lesson in Cheering Yourse...</td>\n",
       "      <td>Bradley Trevor Greive</td>\n",
       "      <td>australia</td>\n",
       "      <td>9.000000</td>\n",
       "    </tr>\n",
       "    <tr>\n",
       "      <th>1</th>\n",
       "      <td>0684872153-australia</td>\n",
       "      <td>3</td>\n",
       "      <td>29.0000</td>\n",
       "      <td>0684872153</td>\n",
       "      <td>Angela's Ashes (MMP) : A Memoir</td>\n",
       "      <td>Frank McCourt</td>\n",
       "      <td>australia</td>\n",
       "      <td>6.333333</td>\n",
       "    </tr>\n",
       "    <tr>\n",
       "      <th>2</th>\n",
       "      <td>0452282152-australia</td>\n",
       "      <td>7</td>\n",
       "      <td>34.7439</td>\n",
       "      <td>0452282152</td>\n",
       "      <td>Girl with a Pearl Earring</td>\n",
       "      <td>Tracy Chevalier</td>\n",
       "      <td>australia</td>\n",
       "      <td>9.285714</td>\n",
       "    </tr>\n",
       "    <tr>\n",
       "      <th>3</th>\n",
       "      <td>0552998486-australia</td>\n",
       "      <td>9</td>\n",
       "      <td>17.0000</td>\n",
       "      <td>0552998486</td>\n",
       "      <td>Chocolat</td>\n",
       "      <td>Joanne Harris</td>\n",
       "      <td>australia</td>\n",
       "      <td>8.222222</td>\n",
       "    </tr>\n",
       "    <tr>\n",
       "      <th>4</th>\n",
       "      <td>0099740516-australia</td>\n",
       "      <td>5</td>\n",
       "      <td>39.0000</td>\n",
       "      <td>0099740516</td>\n",
       "      <td>Fall on Your Knees</td>\n",
       "      <td>Ann-Marie MacDonald</td>\n",
       "      <td>australia</td>\n",
       "      <td>7.200000</td>\n",
       "    </tr>\n",
       "    <tr>\n",
       "      <th>...</th>\n",
       "      <td>...</td>\n",
       "      <td>...</td>\n",
       "      <td>...</td>\n",
       "      <td>...</td>\n",
       "      <td>...</td>\n",
       "      <td>...</td>\n",
       "      <td>...</td>\n",
       "      <td>...</td>\n",
       "    </tr>\n",
       "    <tr>\n",
       "      <th>23443</th>\n",
       "      <td>0684865114-usa</td>\n",
       "      <td>7</td>\n",
       "      <td>34.7439</td>\n",
       "      <td>0684865114</td>\n",
       "      <td>The Restraint of Beasts</td>\n",
       "      <td>Magnus Mills</td>\n",
       "      <td>usa</td>\n",
       "      <td>7.428571</td>\n",
       "    </tr>\n",
       "    <tr>\n",
       "      <th>23444</th>\n",
       "      <td>0553577905-usa</td>\n",
       "      <td>3</td>\n",
       "      <td>19.0000</td>\n",
       "      <td>0553577905</td>\n",
       "      <td>Windhaven</td>\n",
       "      <td>George R. R. Martin</td>\n",
       "      <td>usa</td>\n",
       "      <td>7.000000</td>\n",
       "    </tr>\n",
       "    <tr>\n",
       "      <th>23445</th>\n",
       "      <td>0451402391-usa</td>\n",
       "      <td>6</td>\n",
       "      <td>34.7439</td>\n",
       "      <td>0451402391</td>\n",
       "      <td>The Search for the Green River Killer</td>\n",
       "      <td>Carlton Smith</td>\n",
       "      <td>usa</td>\n",
       "      <td>8.166667</td>\n",
       "    </tr>\n",
       "    <tr>\n",
       "      <th>23446</th>\n",
       "      <td>0060393823-usa</td>\n",
       "      <td>8</td>\n",
       "      <td>34.7439</td>\n",
       "      <td>0060393823</td>\n",
       "      <td>Lost</td>\n",
       "      <td>Gregory Maguire</td>\n",
       "      <td>usa</td>\n",
       "      <td>6.125000</td>\n",
       "    </tr>\n",
       "    <tr>\n",
       "      <th>23447</th>\n",
       "      <td>0060558121-usa</td>\n",
       "      <td>3</td>\n",
       "      <td>34.0000</td>\n",
       "      <td>0060558121</td>\n",
       "      <td>American Gods : A Novel</td>\n",
       "      <td>Neil Gaiman</td>\n",
       "      <td>usa</td>\n",
       "      <td>8.666667</td>\n",
       "    </tr>\n",
       "  </tbody>\n",
       "</table>\n",
       "<p>23448 rows × 8 columns</p>\n",
       "</div>"
      ],
      "text/plain": [
       "               isbn-country  Vote-Count      age        isbn  \\\n",
       "0      0091842050-australia           7  13.0000  0091842050   \n",
       "1      0684872153-australia           3  29.0000  0684872153   \n",
       "2      0452282152-australia           7  34.7439  0452282152   \n",
       "3      0552998486-australia           9  17.0000  0552998486   \n",
       "4      0099740516-australia           5  39.0000  0099740516   \n",
       "...                     ...         ...      ...         ...   \n",
       "23443        0684865114-usa           7  34.7439  0684865114   \n",
       "23444        0553577905-usa           3  19.0000  0553577905   \n",
       "23445        0451402391-usa           6  34.7439  0451402391   \n",
       "23446        0060393823-usa           8  34.7439  0060393823   \n",
       "23447        0060558121-usa           3  34.0000  0060558121   \n",
       "\n",
       "                                              book_title  \\\n",
       "0      The Blue Day Book: A Lesson in Cheering Yourse...   \n",
       "1                        Angela's Ashes (MMP) : A Memoir   \n",
       "2                              Girl with a Pearl Earring   \n",
       "3                                               Chocolat   \n",
       "4                                     Fall on Your Knees   \n",
       "...                                                  ...   \n",
       "23443                            The Restraint of Beasts   \n",
       "23444                                          Windhaven   \n",
       "23445              The Search for the Green River Killer   \n",
       "23446                                               Lost   \n",
       "23447                            American Gods : A Novel   \n",
       "\n",
       "                 book_author    country  Vote-Average-By-Country  \n",
       "0      Bradley Trevor Greive  australia                 9.000000  \n",
       "1              Frank McCourt  australia                 6.333333  \n",
       "2            Tracy Chevalier  australia                 9.285714  \n",
       "3              Joanne Harris  australia                 8.222222  \n",
       "4        Ann-Marie MacDonald  australia                 7.200000  \n",
       "...                      ...        ...                      ...  \n",
       "23443           Magnus Mills        usa                 7.428571  \n",
       "23444    George R. R. Martin        usa                 7.000000  \n",
       "23445          Carlton Smith        usa                 8.166667  \n",
       "23446        Gregory Maguire        usa                 6.125000  \n",
       "23447            Neil Gaiman        usa                 8.666667  \n",
       "\n",
       "[23448 rows x 8 columns]"
      ]
     },
     "execution_count": 20,
     "metadata": {},
     "output_type": "execute_result"
    }
   ],
   "source": [
    "#merging the dataframes\n",
    "df_rating_bycountry= pd.merge(isbn_votecount_bycountry,df_cleaned, how='inner', on=['isbn-country'])\n",
    "\n",
    "#Calculates the mean value of all the row with the same ISBN, hence the average rating which is put to the column 'Vote-Average'\n",
    "df_rating_bycountry['Vote-Average-By-Country'] = df_rating_bycountry['rating'].groupby(df_rating_bycountry['isbn-country']).transform('mean')\n",
    "\n",
    "#Deletes the duplicates and 'Book-Rating' column because we do not need them\n",
    "df_rating_bycountry =df_rating_bycountry.drop_duplicates(subset='isbn-country', keep='first')\n",
    "df_rating_bycountry =df_rating_bycountry.drop(['rating'], axis=1)\n",
    "\n",
    "df_rating_bycountry.reset_index(drop=True)"
   ]
  },
  {
   "cell_type": "code",
   "execution_count": 21,
   "id": "4151eda3",
   "metadata": {},
   "outputs": [
    {
     "name": "stdout",
     "output_type": "stream",
     "text": [
      "The value of C is: 7.672355126591276\n"
     ]
    }
   ],
   "source": [
    "C= df_rating_bycountry['Vote-Average-By-Country'].mean()\n",
    "print('The value of C is: {}'.format(C))"
   ]
  },
  {
   "cell_type": "code",
   "execution_count": 22,
   "id": "a05b889d-e2d6-4813-b9a2-d77e571441da",
   "metadata": {
    "scrolled": true
   },
   "outputs": [
    {
     "data": {
      "text/html": [
       "<div>\n",
       "<style scoped>\n",
       "    .dataframe tbody tr th:only-of-type {\n",
       "        vertical-align: middle;\n",
       "    }\n",
       "\n",
       "    .dataframe tbody tr th {\n",
       "        vertical-align: top;\n",
       "    }\n",
       "\n",
       "    .dataframe thead th {\n",
       "        text-align: right;\n",
       "    }\n",
       "</style>\n",
       "<table border=\"1\" class=\"dataframe\">\n",
       "  <thead>\n",
       "    <tr style=\"text-align: right;\">\n",
       "      <th></th>\n",
       "      <th>isbn-country</th>\n",
       "      <th>Vote-Count</th>\n",
       "      <th>age</th>\n",
       "      <th>isbn</th>\n",
       "      <th>book_title</th>\n",
       "      <th>book_author</th>\n",
       "      <th>country</th>\n",
       "      <th>Vote-Average-By-Country</th>\n",
       "      <th>Score</th>\n",
       "    </tr>\n",
       "  </thead>\n",
       "  <tbody>\n",
       "    <tr>\n",
       "      <th>126594</th>\n",
       "      <td>0439425220-usa</td>\n",
       "      <td>18</td>\n",
       "      <td>29.0000</td>\n",
       "      <td>0439425220</td>\n",
       "      <td>Harry Potter and the Chamber of Secrets Postca...</td>\n",
       "      <td>J. K. Rowling</td>\n",
       "      <td>usa</td>\n",
       "      <td>9.833333</td>\n",
       "      <td>9.524622</td>\n",
       "    </tr>\n",
       "    <tr>\n",
       "      <th>125663</th>\n",
       "      <td>0060256656-usa</td>\n",
       "      <td>17</td>\n",
       "      <td>37.0000</td>\n",
       "      <td>0060256656</td>\n",
       "      <td>The Giving Tree</td>\n",
       "      <td>Shel Silverstein</td>\n",
       "      <td>usa</td>\n",
       "      <td>9.823529</td>\n",
       "      <td>9.500853</td>\n",
       "    </tr>\n",
       "    <tr>\n",
       "      <th>64414</th>\n",
       "      <td>0836220889-usa</td>\n",
       "      <td>12</td>\n",
       "      <td>33.0000</td>\n",
       "      <td>0836220889</td>\n",
       "      <td>Calvin and Hobbes</td>\n",
       "      <td>Bill Watterson</td>\n",
       "      <td>usa</td>\n",
       "      <td>9.916667</td>\n",
       "      <td>9.467804</td>\n",
       "    </tr>\n",
       "    <tr>\n",
       "      <th>181025</th>\n",
       "      <td>0394800389-usa</td>\n",
       "      <td>12</td>\n",
       "      <td>28.0000</td>\n",
       "      <td>0394800389</td>\n",
       "      <td>Fox in Socks (I Can Read It All by Myself Begi...</td>\n",
       "      <td>Dr. Seuss</td>\n",
       "      <td>usa</td>\n",
       "      <td>9.833333</td>\n",
       "      <td>9.401138</td>\n",
       "    </tr>\n",
       "    <tr>\n",
       "      <th>86284</th>\n",
       "      <td>0439139597-usa</td>\n",
       "      <td>118</td>\n",
       "      <td>34.7439</td>\n",
       "      <td>0439139597</td>\n",
       "      <td>Harry Potter and the Goblet of Fire (Book 4)</td>\n",
       "      <td>J. K. Rowling</td>\n",
       "      <td>usa</td>\n",
       "      <td>9.415254</td>\n",
       "      <td>9.372042</td>\n",
       "    </tr>\n",
       "    <tr>\n",
       "      <th>...</th>\n",
       "      <td>...</td>\n",
       "      <td>...</td>\n",
       "      <td>...</td>\n",
       "      <td>...</td>\n",
       "      <td>...</td>\n",
       "      <td>...</td>\n",
       "      <td>...</td>\n",
       "      <td>...</td>\n",
       "      <td>...</td>\n",
       "    </tr>\n",
       "    <tr>\n",
       "      <th>589</th>\n",
       "      <td>0971880107-australia</td>\n",
       "      <td>57</td>\n",
       "      <td>30.0000</td>\n",
       "      <td>0971880107</td>\n",
       "      <td>Wild Animus</td>\n",
       "      <td>Rich Shapero</td>\n",
       "      <td>australia</td>\n",
       "      <td>4.385965</td>\n",
       "      <td>4.550284</td>\n",
       "    </tr>\n",
       "    <tr>\n",
       "      <th>25660</th>\n",
       "      <td>1880985055-usa</td>\n",
       "      <td>5</td>\n",
       "      <td>34.7439</td>\n",
       "      <td>1880985055</td>\n",
       "      <td>Black Coffee Blues</td>\n",
       "      <td>Rollins</td>\n",
       "      <td>usa</td>\n",
       "      <td>2.600000</td>\n",
       "      <td>4.502133</td>\n",
       "    </tr>\n",
       "    <tr>\n",
       "      <th>96917</th>\n",
       "      <td>0971880107-usa</td>\n",
       "      <td>296</td>\n",
       "      <td>53.0000</td>\n",
       "      <td>0971880107</td>\n",
       "      <td>Wild Animus</td>\n",
       "      <td>Rich Shapero</td>\n",
       "      <td>usa</td>\n",
       "      <td>4.347973</td>\n",
       "      <td>4.381328</td>\n",
       "    </tr>\n",
       "    <tr>\n",
       "      <th>11871</th>\n",
       "      <td>0971880107-canada</td>\n",
       "      <td>53</td>\n",
       "      <td>34.7439</td>\n",
       "      <td>0971880107</td>\n",
       "      <td>Wild Animus</td>\n",
       "      <td>Rich Shapero</td>\n",
       "      <td>canada</td>\n",
       "      <td>4.188679</td>\n",
       "      <td>4.375305</td>\n",
       "    </tr>\n",
       "    <tr>\n",
       "      <th>20175</th>\n",
       "      <td>0971880107-united kingdom</td>\n",
       "      <td>40</td>\n",
       "      <td>34.7439</td>\n",
       "      <td>0971880107</td>\n",
       "      <td>Wild Animus</td>\n",
       "      <td>Rich Shapero</td>\n",
       "      <td>united kingdom</td>\n",
       "      <td>3.725000</td>\n",
       "      <td>4.000397</td>\n",
       "    </tr>\n",
       "  </tbody>\n",
       "</table>\n",
       "<p>23448 rows × 9 columns</p>\n",
       "</div>"
      ],
      "text/plain": [
       "                     isbn-country  Vote-Count      age        isbn  \\\n",
       "126594             0439425220-usa          18  29.0000  0439425220   \n",
       "125663             0060256656-usa          17  37.0000  0060256656   \n",
       "64414              0836220889-usa          12  33.0000  0836220889   \n",
       "181025             0394800389-usa          12  28.0000  0394800389   \n",
       "86284              0439139597-usa         118  34.7439  0439139597   \n",
       "...                           ...         ...      ...         ...   \n",
       "589          0971880107-australia          57  30.0000  0971880107   \n",
       "25660              1880985055-usa           5  34.7439  1880985055   \n",
       "96917              0971880107-usa         296  53.0000  0971880107   \n",
       "11871           0971880107-canada          53  34.7439  0971880107   \n",
       "20175   0971880107-united kingdom          40  34.7439  0971880107   \n",
       "\n",
       "                                               book_title       book_author  \\\n",
       "126594  Harry Potter and the Chamber of Secrets Postca...     J. K. Rowling   \n",
       "125663                                    The Giving Tree  Shel Silverstein   \n",
       "64414                                   Calvin and Hobbes    Bill Watterson   \n",
       "181025  Fox in Socks (I Can Read It All by Myself Begi...         Dr. Seuss   \n",
       "86284        Harry Potter and the Goblet of Fire (Book 4)     J. K. Rowling   \n",
       "...                                                   ...               ...   \n",
       "589                                           Wild Animus      Rich Shapero   \n",
       "25660                                  Black Coffee Blues           Rollins   \n",
       "96917                                         Wild Animus      Rich Shapero   \n",
       "11871                                         Wild Animus      Rich Shapero   \n",
       "20175                                         Wild Animus      Rich Shapero   \n",
       "\n",
       "               country  Vote-Average-By-Country     Score  \n",
       "126594             usa                 9.833333  9.524622  \n",
       "125663             usa                 9.823529  9.500853  \n",
       "64414              usa                 9.916667  9.467804  \n",
       "181025             usa                 9.833333  9.401138  \n",
       "86284              usa                 9.415254  9.372042  \n",
       "...                ...                      ...       ...  \n",
       "589          australia                 4.385965  4.550284  \n",
       "25660              usa                 2.600000  4.502133  \n",
       "96917              usa                 4.347973  4.381328  \n",
       "11871           canada                 4.188679  4.375305  \n",
       "20175   united kingdom                 3.725000  4.000397  \n",
       "\n",
       "[23448 rows x 9 columns]"
      ]
     },
     "execution_count": 22,
     "metadata": {},
     "output_type": "execute_result"
    }
   ],
   "source": [
    "df_rating_bycountry['Score']=weighted_rating(df_rating_bycountry['Vote-Count'],df_rating_bycountry['Vote-Average-By-Country'], m=m, C=C)\n",
    "\n",
    "df_rating_bycountry = df_rating_bycountry.sort_values('Score', ascending=False)\n",
    "df_rating_bycountry"
   ]
  },
  {
   "cell_type": "code",
   "execution_count": 23,
   "id": "7109c8c9",
   "metadata": {},
   "outputs": [
    {
     "data": {
      "text/plain": [
       "['usa',\n",
       " 'united kingdom',\n",
       " 'canada',\n",
       " 'germany',\n",
       " 'spain',\n",
       " 'france',\n",
       " 'malaysia',\n",
       " 'philippines',\n",
       " 'australia',\n",
       " 'italy',\n",
       " 'switzerland',\n",
       " 'romania',\n",
       " 'portugal',\n",
       " 'iran',\n",
       " 'finland',\n",
       " 'new zealand',\n",
       " 'netherlands',\n",
       " 'austria',\n",
       " 'brazil',\n",
       " 'indonesia',\n",
       " 'india',\n",
       " 'poland',\n",
       " 'ireland']"
      ]
     },
     "execution_count": 23,
     "metadata": {},
     "output_type": "execute_result"
    }
   ],
   "source": [
    "# List of all the available countries\n",
    "country_array= df_rating_bycountry[\"country\"].drop_duplicates()\n",
    "country_array= country_array.reset_index(drop=True)\n",
    "country_list= list(country_array)\n",
    "country_list"
   ]
  },
  {
   "cell_type": "code",
   "execution_count": 24,
   "id": "6e4c0f5e",
   "metadata": {},
   "outputs": [],
   "source": [
    "def suggest_top_10_books_by_country(country_from_user):\n",
    "    if country_from_user in country_list:\n",
    "        choose_country_df = df_rating_bycountry[df_rating_bycountry[\"country\"] == country_from_user]\n",
    "        choose_country_df =choose_country_df.sort_values('Score', ascending=False)\n",
    "        top_10= choose_country_df.head(10)\n",
    "        sb.barplot(x = \"Score\", y = \"book_title\", data = top_10).set(title = f\"Top 10 recommended books in {country_from_user}\", xlim=(7,10))\n",
    "       \n",
    "    else:\n",
    "        print(f'Country not in the list, please choose one of the following:\\n{country_array}')\n",
    "        country_from_user = input('Type a country:')\n",
    "        suggest_top_10_books_by_country(country_from_user)\n",
    "    return"
   ]
  },
  {
   "cell_type": "markdown",
   "id": "115fa48f",
   "metadata": {},
   "source": [
    "## Things get interactive here. \n",
    "### Please to continue & test the following cell, uncomment the following two lines of code and follow the instructions below.\n",
    "It has only been commented out so that you won't face any issue if you \"Run all\" the cells.\n",
    "By running this code, you as a user have to type in a country from the country column above. Then as a demographic result you get the ten best books by the country you input. If the country doesn't exist in the list, we print you the list with the existing countries and as a user you are called to retype a country and get the results.\n",
    "\n",
    "# !NOTE! \n",
    "The code below stops only when you type in an existing country. In case you want to make it stop running after inputing a non existing country, you have to do it manually."
   ]
  },
  {
   "cell_type": "code",
   "execution_count": 25,
   "id": "b5250533",
   "metadata": {
    "scrolled": true
   },
   "outputs": [],
   "source": [
    "# Uncomment the next two lines of code to test our input recommendation\n",
    "#country_from_user = input('Type in a country:')\n",
    "#suggest_top_10_books_by_country(country_from_user)"
   ]
  },
  {
   "cell_type": "markdown",
   "id": "c5a6d32e",
   "metadata": {},
   "source": [
    "Below we visualise in the same graph for comparison reasons the number of votes of each book (Vote-Count) and the weighted score (Score) ."
   ]
  },
  {
   "cell_type": "code",
   "execution_count": 26,
   "id": "da5b0258-67e9-4fcc-bd5a-a3811cbdb8af",
   "metadata": {},
   "outputs": [
    {
     "data": {
      "text/plain": [
       "<matplotlib.legend.Legend at 0x7faa76c015e0>"
      ]
     },
     "execution_count": 26,
     "metadata": {},
     "output_type": "execute_result"
    },
    {
     "data": {
      "image/png": "[encoded data removed]",
      "text/plain": [
       "<Figure size 720x720 with 1 Axes>"
      ]
     },
     "metadata": {
      "needs_background": "light"
     },
     "output_type": "display_data"
    }
   ],
   "source": [
    "## Took Italy as an example.\n",
    "italy_df = df_rating_bycountry[df_rating_bycountry[\"country\"] == 'italy']\n",
    "italy_df =italy_df.sort_values('Score', ascending=False)\n",
    "top_30_italy= italy_df.head(30)\n",
    "top_30_italy.plot.bar(x='book_title', y=['Vote-Count','Score'], color=['maroon','orange'],figsize=(10,10))\n",
    "plt.legend(['Book Vote Count', 'Weighted score'], fontsize = 20)"
   ]
  },
  {
   "cell_type": "markdown",
   "id": "eae14ed4",
   "metadata": {},
   "source": [
    "The above graph approves that the books with the higher weighted score are not definitelly the ones with most of the votes. Vote counts varies between the top 30 books which means that no matter how many people have voted a book, it doesn't have to be highly ranked or recommended."
   ]
  },
  {
   "cell_type": "markdown",
   "id": "2f4f285c",
   "metadata": {},
   "source": [
    "------------------------------------------------------------------------\n",
    "# Content Filtering\n",
    "\n"
   ]
  },
  {
   "cell_type": "markdown",
   "id": "f53af7b0",
   "metadata": {},
   "source": [
    "### Data cleaning for Content based filtering"
   ]
  },
  {
   "cell_type": "code",
   "execution_count": 27,
   "id": "9a79fbe7",
   "metadata": {
    "scrolled": true
   },
   "outputs": [],
   "source": [
    "df = pd.read_csv('Preprocessed_data_cleaned.csv')\n",
    "df = df[df['Language'] == 'en']\n",
    "df=df.drop(columns=['Unnamed: 0', 'user_id','age','rating','year_of_publication','city','Language','state','country','location'])\n",
    "## Clearing out the books and summaries that appear more than once in the dataframe\n",
    "df =df.drop_duplicates(subset='isbn', keep='first')\n",
    "df =df.drop_duplicates(subset='Summary', keep='first')\n",
    "df['Summary'] = df['Summary'].fillna('')\n",
    "df=df.reset_index(drop=True)\n",
    "df\n",
    "df.to_csv('Preprocessed_data_cleaned_for_content.csv', index=False)"
   ]
  },
  {
   "cell_type": "markdown",
   "id": "a34ddc04",
   "metadata": {},
   "source": [
    "### Summary based Recommender\n",
    "Following the Content based recommendation approach, we computed the similarity scores of the books based on their summaries. Firstly we cleaned the dataset, this time removing all the languages except for english. This leaves us with enough data to demonstrate this type of filtering (76K books)."
   ]
  },
  {
   "cell_type": "code",
   "execution_count": 28,
   "id": "35c038e7",
   "metadata": {},
   "outputs": [],
   "source": [
    "df= pd.read_csv('Preprocessed_data_cleaned_for_content.csv')\n",
    "df=df.drop(columns=['book_author','Category','publisher'])"
   ]
  },
  {
   "cell_type": "code",
   "execution_count": 29,
   "id": "9ce45646-65c7-4e38-a7c0-238fc6f622ed",
   "metadata": {},
   "outputs": [],
   "source": [
    "stop_words = set(stopwords.words('english'))\n",
    "## takes str as input and cleans it of punctuation etc\n",
    "def cleaner(aString):\n",
    "    output = aString.lower()\n",
    "    remove_punctuation=re.sub(r'[^\\w\\s]', '',  output)\n",
    "    remove_back=re.sub(r'[0-9]',\"\",remove_punctuation) \n",
    "    remove_back=re.sub(r'[\\n]',\" \",remove_back) \n",
    "    text_tokens = word_tokenize(remove_back)\n",
    "    str_no_stopw = [word for word in text_tokens if not word in stop_words]\n",
    "    summary= (\" \").join(str_no_stopw)\n",
    "    return summary"
   ]
  },
  {
   "cell_type": "code",
   "execution_count": 30,
   "id": "dab03207",
   "metadata": {},
   "outputs": [],
   "source": [
    "# cleans the summaries of the books\n",
    "df['Summary']=list(map(lambda x: cleaner(x),df['Summary']))"
   ]
  },
  {
   "cell_type": "code",
   "execution_count": 31,
   "id": "b374c6f3",
   "metadata": {},
   "outputs": [],
   "source": [
    "# Remove str reference\n",
    "del str"
   ]
  },
  {
   "cell_type": "markdown",
   "id": "e59281cd",
   "metadata": {},
   "source": [
    "We used the **Jaccard similarity** as an indicator of the similarity between the books’ summaries."
   ]
  },
  {
   "cell_type": "code",
   "execution_count": 32,
   "id": "38c66cb8",
   "metadata": {},
   "outputs": [],
   "source": [
    "def Jaccard_Similarity(str1, str2): \n",
    "    str1 = str(str1)\n",
    "    str2 = str(str2)\n",
    "\n",
    "    # List the unique words in a document\n",
    "    set1 = set(str1.split()) \n",
    "    set2 = set(str2.split())\n",
    "    \n",
    "    # Finds intersection os strings\n",
    "    intersection = set1.intersection(set2)\n",
    "\n",
    "    # Finds union of words of strings\n",
    "    union = set1.union(set2)\n",
    "        \n",
    "    # Calculate Jaccard score  add reference Mining of Massive Datasets Book page 74 Chapter 3\n",
    "    return float(len(intersection)) / len(union)"
   ]
  },
  {
   "cell_type": "markdown",
   "id": "031a484d",
   "metadata": {},
   "source": [
    "So, now we can create a function that calculates the similarity score for a book that takes as an input. In this function we get the index of a book and calculate the jackard similarity of all books with the chosen book and then we sort the books according to the similarity scores."
   ]
  },
  {
   "cell_type": "code",
   "execution_count": 33,
   "id": "6042dad2-407d-49ac-976b-b2481bc03106",
   "metadata": {},
   "outputs": [],
   "source": [
    "def get_recommendations(title, column):\n",
    "    \n",
    "    # Get the index of the book that matches the title\n",
    "    idx = df[df['book_title']==title].index.values[0]\n",
    "\n",
    "    # calculate the jaccard similarity of all books with that book\n",
    "    Jaccard_score = list(map(lambda x: Jaccard_Similarity(x,df[column][idx]),df[column]))\n",
    "    \n",
    "    Jaccard_score_df = pd.DataFrame(Jaccard_score,columns =['Similarity_Score'])\n",
    "    \n",
    "    Jaccard_score_df = pd.merge(Jaccard_score_df, df, left_index=True, right_index=True)\n",
    "    \n",
    "    # Sort the books based on the similarity scores\n",
    "    Jaccard_score_df = Jaccard_score_df.sort_values('Similarity_Score', ascending=False)\n",
    "    \n",
    "    # Get the scores of the 10 most similar books\n",
    "    Jaccard_score_df = Jaccard_score_df[1:11]\n",
    "    Jaccard_score_df = pd.DataFrame(Jaccard_score_df)\n",
    "    Jaccard_score_df= Jaccard_score_df.reset_index(drop= True)\n",
    "\n",
    "    # Return the top 10 most similar books\n",
    "    return Jaccard_score_df"
   ]
  },
  {
   "cell_type": "markdown",
   "id": "054ba6fc",
   "metadata": {},
   "source": [
    "Let's take as an example the Book \"Decision in Normandy\"."
   ]
  },
  {
   "cell_type": "code",
   "execution_count": 34,
   "id": "d4715e22-b813-4763-be9d-789dc5952f65",
   "metadata": {},
   "outputs": [
    {
     "data": {
      "text/html": [
       "<div>\n",
       "<style scoped>\n",
       "    .dataframe tbody tr th:only-of-type {\n",
       "        vertical-align: middle;\n",
       "    }\n",
       "\n",
       "    .dataframe tbody tr th {\n",
       "        vertical-align: top;\n",
       "    }\n",
       "\n",
       "    .dataframe thead th {\n",
       "        text-align: right;\n",
       "    }\n",
       "</style>\n",
       "<table border=\"1\" class=\"dataframe\">\n",
       "  <thead>\n",
       "    <tr style=\"text-align: right;\">\n",
       "      <th></th>\n",
       "      <th>Similarity_Score</th>\n",
       "      <th>isbn</th>\n",
       "      <th>book_title</th>\n",
       "      <th>Summary</th>\n",
       "    </tr>\n",
       "  </thead>\n",
       "  <tbody>\n",
       "    <tr>\n",
       "      <th>0</th>\n",
       "      <td>0.166667</td>\n",
       "      <td>1853673110</td>\n",
       "      <td>War on the Eastern Front: The German Soldier i...</td>\n",
       "      <td>first time paperback lucas details experiences...</td>\n",
       "    </tr>\n",
       "    <tr>\n",
       "      <th>1</th>\n",
       "      <td>0.125000</td>\n",
       "      <td>0060554886</td>\n",
       "      <td>The Illustrator in America : 1860-2000</td>\n",
       "      <td>first published revised third edition offered ...</td>\n",
       "    </tr>\n",
       "    <tr>\n",
       "      <th>2</th>\n",
       "      <td>0.120000</td>\n",
       "      <td>0140235426</td>\n",
       "      <td>Six Armies in Normandy: From D-Day to the Libe...</td>\n",
       "      <td>recreates military accomplishments delineates ...</td>\n",
       "    </tr>\n",
       "    <tr>\n",
       "      <th>3</th>\n",
       "      <td>0.115385</td>\n",
       "      <td>0864923732</td>\n",
       "      <td>Saint John Fortifications, 1630-1956 (New Brun...</td>\n",
       "      <td>saint john fortifications first volume new bru...</td>\n",
       "    </tr>\n",
       "    <tr>\n",
       "      <th>4</th>\n",
       "      <td>0.115385</td>\n",
       "      <td>0385126514</td>\n",
       "      <td>For Her Own Good : 150 Years of the Experts' A...</td>\n",
       "      <td>provocative new perspective female history his...</td>\n",
       "    </tr>\n",
       "    <tr>\n",
       "      <th>5</th>\n",
       "      <td>0.114286</td>\n",
       "      <td>0590021117</td>\n",
       "      <td>Little House On the Prairie</td>\n",
       "      <td>first time history little house books new edit...</td>\n",
       "    </tr>\n",
       "    <tr>\n",
       "      <th>6</th>\n",
       "      <td>0.114286</td>\n",
       "      <td>0520201663</td>\n",
       "      <td>The Collected Poems of Frank O'Hara</td>\n",
       "      <td>available first time paperback collected poems...</td>\n",
       "    </tr>\n",
       "    <tr>\n",
       "      <th>7</th>\n",
       "      <td>0.114286</td>\n",
       "      <td>0060581859</td>\n",
       "      <td>The Long Winter (Little House)</td>\n",
       "      <td>first time history little house books new edit...</td>\n",
       "    </tr>\n",
       "    <tr>\n",
       "      <th>8</th>\n",
       "      <td>0.114286</td>\n",
       "      <td>0590300946</td>\n",
       "      <td>Long Winter</td>\n",
       "      <td>first time history little house books new edit...</td>\n",
       "    </tr>\n",
       "    <tr>\n",
       "      <th>9</th>\n",
       "      <td>0.111111</td>\n",
       "      <td>0226718530</td>\n",
       "      <td>Readings in Russian Civilization: Russian Befo...</td>\n",
       "      <td>first volume undergone least change new items ...</td>\n",
       "    </tr>\n",
       "  </tbody>\n",
       "</table>\n",
       "</div>"
      ],
      "text/plain": [
       "   Similarity_Score        isbn  \\\n",
       "0          0.166667  1853673110   \n",
       "1          0.125000  0060554886   \n",
       "2          0.120000  0140235426   \n",
       "3          0.115385  0864923732   \n",
       "4          0.115385  0385126514   \n",
       "5          0.114286  0590021117   \n",
       "6          0.114286  0520201663   \n",
       "7          0.114286  0060581859   \n",
       "8          0.114286  0590300946   \n",
       "9          0.111111  0226718530   \n",
       "\n",
       "                                          book_title  \\\n",
       "0  War on the Eastern Front: The German Soldier i...   \n",
       "1             The Illustrator in America : 1860-2000   \n",
       "2  Six Armies in Normandy: From D-Day to the Libe...   \n",
       "3  Saint John Fortifications, 1630-1956 (New Brun...   \n",
       "4  For Her Own Good : 150 Years of the Experts' A...   \n",
       "5                        Little House On the Prairie   \n",
       "6                The Collected Poems of Frank O'Hara   \n",
       "7                     The Long Winter (Little House)   \n",
       "8                                        Long Winter   \n",
       "9  Readings in Russian Civilization: Russian Befo...   \n",
       "\n",
       "                                             Summary  \n",
       "0  first time paperback lucas details experiences...  \n",
       "1  first published revised third edition offered ...  \n",
       "2  recreates military accomplishments delineates ...  \n",
       "3  saint john fortifications first volume new bru...  \n",
       "4  provocative new perspective female history his...  \n",
       "5  first time history little house books new edit...  \n",
       "6  available first time paperback collected poems...  \n",
       "7  first time history little house books new edit...  \n",
       "8  first time history little house books new edit...  \n",
       "9  first volume undergone least change new items ...  "
      ]
     },
     "execution_count": 34,
     "metadata": {},
     "output_type": "execute_result"
    },
    {
     "data": {
      "image/png": "[encoded data removed]",
      "text/plain": [
       "<Figure size 432x288 with 1 Axes>"
      ]
     },
     "metadata": {
      "needs_background": "light"
     },
     "output_type": "display_data"
    }
   ],
   "source": [
    "Jaccard_recommendation_df = get_recommendations(\"Decision in Normandy\", \"Summary\")\n",
    "sb.barplot(x = \"Similarity_Score\", y = \"book_title\", data = Jaccard_recommendation_df).set(title = \"Top 10 recommended books according to Decision in Normandy\", xlim=(0.09,0.18))\n",
    "Jaccard_recommendation_df"
   ]
  },
  {
   "cell_type": "code",
   "execution_count": 35,
   "id": "ae95012a",
   "metadata": {
    "scrolled": true
   },
   "outputs": [],
   "source": [
    "def interactive_content_recommendation(book_title_from_user, column):\n",
    "    if book_title_from_user in list(df['book_title']):\n",
    "        Jaccard_recommendation_df = get_recommendations(book_title_from_user, column)\n",
    "        sb.barplot(x = \"Similarity_Score\", y = \"book_title\", data = Jaccard_recommendation_df).set(title = f\"Top 10 recommended books according to {book_title_from_user}\")\n",
    "       \n",
    "    else:\n",
    "        pd.options.display.max_colwidth = 100\n",
    "        print(f'Book not in the list, please choose- copy & paste- one of the following -10 random examples-:\\n{df[\"book_title\"].sample(n=10)}')\n",
    "        book_title_from_user = input('Type a book title:')\n",
    "        interactive_content_recommendation(book_title_from_user, column)\n",
    "    return"
   ]
  },
  {
   "cell_type": "markdown",
   "id": "242facf8",
   "metadata": {},
   "source": [
    "## Things get interactive here. \n",
    "### Please to continue & test the following cell, uncomment the following two lines of code and follow the instructions below.\n",
    "It has only been commented out so that you won't face any issue if you \"Run all\" the cells.\n",
    "By running this code, you as a user have to type in a book title. Then as a content based on the summary result you get the ten best books by the book title you input. If the book title doesn't exist in the list, we print you 10 random books from our dataframe and as a user you are called to copy-paste a book title and get the results.\n",
    "\n",
    "# !NOTE! \n",
    "If you start running the code of the cell below, it is going to wait for you an input. It stops running only when you type in an existing book title. In case you want to make it stop running after inputing a non existing book title, for any reason, you have to do it manually.\n",
    "\n",
    "Below we provide you with the output as an example if the user types as book title first a book title that doesn't exist and then the book title \"Psychic Protection\""
   ]
  },
  {
   "cell_type": "code",
   "execution_count": 36,
   "id": "7f0f3fb1",
   "metadata": {},
   "outputs": [],
   "source": [
    "# Uncomment the next 2 lines to test our user input recommender\n",
    "#title_from_user = input()\n",
    "#interactive_content_recommendation(title_from_user, \"Summary\")"
   ]
  },
  {
   "cell_type": "markdown",
   "id": "c0f12d3e",
   "metadata": {},
   "source": [
    "### Variable based Recommender \n",
    "In this section, we create a mix or \"soup\" of each book's \"features\" (Title, Author, Publisher and Category) and we recommend a top 10 to a user based on this data analysis.\n",
    "We tryed out several combinations to verify which \"soup\" works best according to the content based recommendation for the user.\n",
    "### 1. Title, Author, Publisher and Category"
   ]
  },
  {
   "cell_type": "code",
   "execution_count": 37,
   "id": "3f9e9d04",
   "metadata": {},
   "outputs": [],
   "source": [
    "df = pd.read_csv('Preprocessed_data_cleaned_for_content.csv')\n",
    "df=df.drop(columns=['Summary'])\n",
    "df['book_title_cleaned']=list(map(lambda x: cleaner(x),df['book_title']))"
   ]
  },
  {
   "cell_type": "code",
   "execution_count": 38,
   "id": "4fbc5aee-5563-4202-a8da-6db9b505a22c",
   "metadata": {},
   "outputs": [
    {
     "name": "stdout",
     "output_type": "stream",
     "text": [
      "['Fiction']                                               30332\n",
      "['Juvenile Fiction']                                       5296\n",
      "['Biography & Autobiography']                              3090\n",
      "['History']                                                1782\n",
      "['Religion']                                               1715\n",
      "                                                          ...  \n",
      "['Afrikaners']                                                1\n",
      "['Fugitives from justice']                                    1\n",
      "['Midlife crisis']                                            1\n",
      "['Maigret, Jules (Fictitious character)']                     1\n",
      "['Authors, Canadian (English) 20th century Biography']        1\n",
      "Name: Category, Length: 3745, dtype: int64\n"
     ]
    }
   ],
   "source": [
    "# Data analysis\n",
    "features = ['book_title_cleaned', 'book_author', 'publisher', 'Category']\n",
    "analysis_filename = 'data_analysis.txt'\n",
    "\n",
    "for current_feature in features:\n",
    "    unique_values = df[current_feature].unique().tolist()\n",
    "\n",
    "    with open(f\"{analysis_filename}_{current_feature}\", 'w', encoding=\"utf-8\") as f:\n",
    "        for v in unique_values:\n",
    "            f.write(\"%s\\n\" % v)\n",
    "\n",
    "# See how common each category is\n",
    "print(df[features[3]].value_counts())"
   ]
  },
  {
   "cell_type": "code",
   "execution_count": 39,
   "id": "d96977f0",
   "metadata": {},
   "outputs": [
    {
     "data": {
      "text/html": [
       "<div>\n",
       "<style scoped>\n",
       "    .dataframe tbody tr th:only-of-type {\n",
       "        vertical-align: middle;\n",
       "    }\n",
       "\n",
       "    .dataframe tbody tr th {\n",
       "        vertical-align: top;\n",
       "    }\n",
       "\n",
       "    .dataframe thead th {\n",
       "        text-align: right;\n",
       "    }\n",
       "</style>\n",
       "<table border=\"1\" class=\"dataframe\">\n",
       "  <thead>\n",
       "    <tr style=\"text-align: right;\">\n",
       "      <th></th>\n",
       "      <th>book_title_cleaned</th>\n",
       "      <th>book_author</th>\n",
       "      <th>publisher</th>\n",
       "      <th>Category</th>\n",
       "    </tr>\n",
       "  </thead>\n",
       "  <tbody>\n",
       "    <tr>\n",
       "      <th>0</th>\n",
       "      <td>clara callan</td>\n",
       "      <td>Richard Bruce Wright</td>\n",
       "      <td>HarperFlamingo Canada</td>\n",
       "      <td>Actresses</td>\n",
       "    </tr>\n",
       "    <tr>\n",
       "      <th>1</th>\n",
       "      <td>decision normandy</td>\n",
       "      <td>Carlo D'Este</td>\n",
       "      <td>HarperPerennial</td>\n",
       "      <td>1940-1949</td>\n",
       "    </tr>\n",
       "    <tr>\n",
       "      <th>2</th>\n",
       "      <td>flu story great influenza pandemic search viru...</td>\n",
       "      <td>Gina Bari Kolata</td>\n",
       "      <td>Farrar Straus Giroux</td>\n",
       "      <td>Medical</td>\n",
       "    </tr>\n",
       "    <tr>\n",
       "      <th>3</th>\n",
       "      <td>kitchen gods wife</td>\n",
       "      <td>Amy Tan</td>\n",
       "      <td>Putnam Pub Group</td>\n",
       "      <td>Fiction</td>\n",
       "    </tr>\n",
       "    <tr>\n",
       "      <th>4</th>\n",
       "      <td>worlds foremost military historians imagine might</td>\n",
       "      <td>Robert Cowley</td>\n",
       "      <td>Berkley Publishing Group</td>\n",
       "      <td>History</td>\n",
       "    </tr>\n",
       "  </tbody>\n",
       "</table>\n",
       "</div>"
      ],
      "text/plain": [
       "                                  book_title_cleaned           book_author  \\\n",
       "0                                       clara callan  Richard Bruce Wright   \n",
       "1                                  decision normandy          Carlo D'Este   \n",
       "2  flu story great influenza pandemic search viru...      Gina Bari Kolata   \n",
       "3                                  kitchen gods wife               Amy Tan   \n",
       "4  worlds foremost military historians imagine might         Robert Cowley   \n",
       "\n",
       "                  publisher   Category  \n",
       "0     HarperFlamingo Canada  Actresses  \n",
       "1           HarperPerennial  1940-1949  \n",
       "2      Farrar Straus Giroux    Medical  \n",
       "3          Putnam Pub Group    Fiction  \n",
       "4  Berkley Publishing Group    History  "
      ]
     },
     "execution_count": 39,
     "metadata": {},
     "output_type": "execute_result"
    }
   ],
   "source": [
    "# Clean 'category column'\n",
    "\n",
    "features = ['book_title_cleaned', 'book_author', 'publisher', 'Category']\n",
    "\n",
    "# Parse the stringified features into their corresponding python objects\n",
    "df[features[3]] = df[features[3]].apply(literal_eval)\n",
    "\n",
    "# Since each list contains only 1 element, replace the list by the element inside while dealing\n",
    "# with the 9 values\n",
    "def get_str_from_list(val):\n",
    "    if val == 9:\n",
    "        return \"9\"\n",
    "    return val[0]\n",
    "\n",
    "df[features[3]] = df[features[3]].apply(get_str_from_list)\n",
    "\n",
    "# Current features head\n",
    "df[features].head()"
   ]
  },
  {
   "cell_type": "code",
   "execution_count": 40,
   "id": "a2bcc10c",
   "metadata": {},
   "outputs": [],
   "source": [
    "# Function to convert all strings to lower case and strip names of spaces\n",
    "def lower_and_remove_spaces(x):\n",
    "    if isinstance(x, list):\n",
    "        return [str.lower(i.replace(\" \", \"\")) for i in x]\n",
    "    else:\n",
    "        #Check if author exists. If not, return empty string\n",
    "        if isinstance(x, str):\n",
    "            return x.replace(\" \", \"\").lower()\n",
    "        else:\n",
    "            return ''\n",
    "\n",
    "def lower(x):\n",
    "    return x.lower()\n",
    "\n",
    "\n",
    "# Apply clean_data function to selected features.\n",
    "remove_spaces_features = ['book_author', 'publisher']\n",
    "\n",
    "for feature in remove_spaces_features:\n",
    "    df[feature] = df[feature].apply(lower_and_remove_spaces)\n",
    "\n",
    "for feature in features:\n",
    "    df[feature] = df[feature].apply(lower)"
   ]
  },
  {
   "cell_type": "code",
   "execution_count": 41,
   "id": "c122b642",
   "metadata": {},
   "outputs": [
    {
     "name": "stdout",
     "output_type": "stream",
     "text": [
      "0    clara callan richardbrucewright harperflamingo...\n",
      "1    decision normandy carlod'este harperperennial ...\n",
      "2    flu story great influenza pandemic search viru...\n",
      "3     kitchen gods wife amytan putnampubgroup fiction \n",
      "4    worlds foremost military historians imagine mi...\n",
      "Name: soup, dtype: object\n"
     ]
    }
   ],
   "source": [
    "# Start recommender system\n",
    "\n",
    "def create_soup(x):\n",
    "    soup = \"\"\n",
    "    for feature in features:\n",
    "        soup += x[feature] + ' '\n",
    "    return soup\n",
    "df['soup'] = df.apply(create_soup, axis=1)\n",
    "\n",
    "print(df['soup'].head())"
   ]
  },
  {
   "cell_type": "code",
   "execution_count": 42,
   "id": "fdd3a748",
   "metadata": {
    "scrolled": true
   },
   "outputs": [
    {
     "data": {
      "text/plain": [
       "0                                     Emerald Decision\n",
       "1                                   Flavor of Normandy\n",
       "2                                    Decision at Doona\n",
       "3                     The Decision (Animorphs, No. 18)\n",
       "4                The Decision (Palisades Pure Romance)\n",
       "5                The portable pediatrician for parents\n",
       "6    Decision in Philadelphia: The Constitutional C...\n",
       "7             Perfection of the Morning an Apprentices\n",
       "8          Decision at Thunder Rift (Battletech, No 6)\n",
       "9            Currahee!:  A Screaming Eagle at Normandy\n",
       "Name: book_title, dtype: object"
      ]
     },
     "execution_count": 42,
     "metadata": {},
     "output_type": "execute_result"
    }
   ],
   "source": [
    "jaccard_score_df = get_recommendations(\"Decision in Normandy\", \"soup\")\n",
    "jaccard_score_df['book_title']"
   ]
  },
  {
   "cell_type": "code",
   "execution_count": 43,
   "id": "898770d8",
   "metadata": {
    "scrolled": false
   },
   "outputs": [
    {
     "data": {
      "text/plain": [
       "[Text(0.5, 1.0, 'Top 10 recommended books according to Decision in Normandy')]"
      ]
     },
     "execution_count": 43,
     "metadata": {},
     "output_type": "execute_result"
    },
    {
     "data": {
      "image/png": "[encoded data removed]",
      "text/plain": [
       "<Figure size 432x288 with 1 Axes>"
      ]
     },
     "metadata": {
      "needs_background": "light"
     },
     "output_type": "display_data"
    }
   ],
   "source": [
    "sb.barplot(x = \"Similarity_Score\", y = \"book_title\", data = jaccard_score_df).set(title = \"Top 10 recommended books according to Decision in Normandy\")\n"
   ]
  },
  {
   "cell_type": "code",
   "execution_count": null,
   "id": "69358829",
   "metadata": {},
   "outputs": [],
   "source": []
  },
  {
   "cell_type": "markdown",
   "id": "3c72011c",
   "metadata": {},
   "source": [
    "### 2. Author, Publisher, Category\n",
    "We create a new \"soup\" excluding the book title to compare the results"
   ]
  },
  {
   "cell_type": "code",
   "execution_count": 44,
   "id": "0908320b",
   "metadata": {
    "scrolled": true
   },
   "outputs": [
    {
     "data": {
      "text/plain": [
       "[Text(0.5, 1.0, 'Top 10 recommended books according to Decision in Normandy')]"
      ]
     },
     "execution_count": 44,
     "metadata": {},
     "output_type": "execute_result"
    },
    {
     "data": {
      "image/png": "[encoded data removed]",
      "text/plain": [
       "<Figure size 432x288 with 1 Axes>"
      ]
     },
     "metadata": {
      "needs_background": "light"
     },
     "output_type": "display_data"
    }
   ],
   "source": [
    "features = ['book_author', 'publisher', 'Category']\n",
    "df['soup'] = df.apply(create_soup, axis=1)\n",
    "# Show what the current soup for the first book look like\n",
    "jaccard_score_df = get_recommendations(\"Decision in Normandy\", \"soup\")\n",
    "jaccard_score_df\n",
    "sb.barplot(x = \"Similarity_Score\", y = \"book_title\", data = jaccard_score_df).set(title = \"Top 10 recommended books according to Decision in Normandy\")\n"
   ]
  },
  {
   "cell_type": "markdown",
   "id": "0b3e6b5b",
   "metadata": {},
   "source": [
    "### 3.Summary, Author, Publisher, Category\n"
   ]
  },
  {
   "cell_type": "code",
   "execution_count": 48,
   "id": "7b616604",
   "metadata": {},
   "outputs": [],
   "source": [
    "# Data cleaning\n",
    "df = pd.read_csv('Preprocessed_data_cleaned_for_content.csv')\n",
    "features = ['Summary', 'book_author', 'publisher', 'Category']\n",
    "\n",
    "# Parse the stringified features into their corresponding python objects\n",
    "df[features[3]] = df[features[3]].apply(literal_eval)\n",
    "df[features[3]] = df[features[3]].apply(get_str_from_list)\n",
    "# Apply clean_data function to selected features.\n",
    "remove_spaces_features = ['book_author', 'publisher']\n",
    "\n",
    "for feature in remove_spaces_features:\n",
    "    df[feature] = df[feature].apply(lower_and_remove_spaces)\n",
    "\n",
    "for feature in features:\n",
    "    df[feature] = df[feature].apply(lower)\n",
    "\n",
    "df['Summary']=list(map(lambda x: cleaner(x),df['Summary']))\n",
    "df['soup'] = df.apply(create_soup, axis=1)"
   ]
  },
  {
   "cell_type": "code",
   "execution_count": 49,
   "id": "941d1567",
   "metadata": {},
   "outputs": [
    {
     "name": "stdout",
     "output_type": "stream",
     "text": [
      "0    small town canada clara callan reluctantly tak...\n",
      "1    first time paperback outstanding military hist...\n",
      "2    describes great flu epidemic outbreak killed f...\n",
      "3    chinese immigrant convinced dying threatens ce...\n",
      "4    essays respected military historians including...\n",
      "Name: soup, dtype: object\n"
     ]
    }
   ],
   "source": [
    "# this is what the soup looks like after cleaning and applying the changes\n",
    "\n",
    "print(df['soup'].head())"
   ]
  },
  {
   "cell_type": "code",
   "execution_count": 50,
   "id": "b88f61c6",
   "metadata": {},
   "outputs": [
    {
     "data": {
      "text/plain": [
       "[Text(0.5, 1.0, 'Top 10 recommended books according to Decision in Normandy')]"
      ]
     },
     "execution_count": 50,
     "metadata": {},
     "output_type": "execute_result"
    },
    {
     "data": {
      "image/png": "[encoded data removed]",
      "text/plain": [
       "<Figure size 432x288 with 1 Axes>"
      ]
     },
     "metadata": {
      "needs_background": "light"
     },
     "output_type": "display_data"
    }
   ],
   "source": [
    "jaccard_score_df = get_recommendations(\"Decision in Normandy\", \"soup\")\n",
    "sb.barplot(x = \"Similarity_Score\", y = \"book_title\", data = jaccard_score_df).set(title = \"Top 10 recommended books according to Decision in Normandy\")"
   ]
  },
  {
   "cell_type": "code",
   "execution_count": null,
   "id": "8c9db627",
   "metadata": {},
   "outputs": [],
   "source": []
  }
 ],
 "metadata": {
  "kernelspec": {
   "display_name": "Python 3 (ipykernel)",
   "language": "python",
   "name": "python3"
  },
  "language_info": {
   "codemirror_mode": {
    "name": "ipython",
    "version": 3
   },
   "file_extension": ".py",
   "mimetype": "text/x-python",
   "name": "python",
   "nbconvert_exporter": "python",
   "pygments_lexer": "ipython3",
   "version": "3.9.12"
  },
  "vscode": {
   "interpreter": {
    "hash": "806aaf7d46874e4a7de1521bdd930849c1f47ab6f1d507864482401d17f581ac"
   }
  }
 },
 "nbformat": 4,
 "nbformat_minor": 5
}
