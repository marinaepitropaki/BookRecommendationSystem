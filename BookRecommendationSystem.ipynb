{
 "cells": [
  {
   "cell_type": "markdown",
   "id": "55294ffd",
   "metadata": {},
   "source": [
    "# Data Loading and Cleaning"
   ]
  },
  {
   "cell_type": "code",
   "execution_count": 15,
   "id": "fdbbcf79",
   "metadata": {},
   "outputs": [],
   "source": [
    "# imports\n",
    "import pandas as pd\n",
    "import seaborn as sb\n",
    "import matplotlib.pyplot as plt"
   ]
  },
  {
   "cell_type": "code",
   "execution_count": 16,
   "id": "dbeaa608",
   "metadata": {},
   "outputs": [],
   "source": [
    "# Loading csv with preprocessed data\n",
    "df = pd.read_csv('/Users/mep/Desktop/Preprocessed_data.csv')\n",
    "\n",
    "# Cleaning the data\n",
    "# Removing zero ratings\n",
    "df = df[df['rating'] != 0]"
   ]
  },
  {
   "cell_type": "code",
   "execution_count": 18,
   "id": "f305eb50",
   "metadata": {},
   "outputs": [],
   "source": [
    "# Removing image_url columns because we will not use it.\n",
    "df = df.drop(['img_s'], axis=1)\n",
    "df = df.drop(['img_m'], axis=1)\n",
    "df = df.drop(['img_l'], axis=1)"
   ]
  },
  {
   "cell_type": "code",
   "execution_count": 19,
   "id": "09f51513",
   "metadata": {},
   "outputs": [
    {
     "name": "stdout",
     "output_type": "stream",
     "text": [
      "         Unnamed: 0  user_id                   location      age        isbn  \\\n",
      "1                 1        8   timmins, ontario, canada  34.7439  0002005018   \n",
      "3                 3    11676              n/a, n/a, n/a  34.7439  0002005018   \n",
      "5                 5    67544   toronto, ontario, canada  30.0000  0002005018   \n",
      "8                 8   116866                  ottawa, ,  34.7439  0002005018   \n",
      "9                 9   123629  kingston, ontario, canada  34.7439  0002005018   \n",
      "...             ...      ...                        ...      ...         ...   \n",
      "1031169     1031169   278851         dallas, texas, usa  33.0000  067161746X   \n",
      "1031171     1031171   278851         dallas, texas, usa  33.0000  0767907566   \n",
      "1031172     1031172   278851         dallas, texas, usa  33.0000  0884159221   \n",
      "1031173     1031173   278851         dallas, texas, usa  33.0000  0912333022   \n",
      "1031174     1031174   278851         dallas, texas, usa  33.0000  1569661057   \n",
      "\n",
      "         rating                                         book_title  \\\n",
      "1             5                                       Clara Callan   \n",
      "3             8                                       Clara Callan   \n",
      "5             8                                       Clara Callan   \n",
      "8             9                                       Clara Callan   \n",
      "9             9                                       Clara Callan   \n",
      "...         ...                                                ...   \n",
      "1031169       7  The Bachelor Home Companion: A Practical Guide...   \n",
      "1031171       5  All Elevations Unknown: An Adventure in the He...   \n",
      "1031172       7  Why stop?: A guide to Texas historical roadsid...   \n",
      "1031173       7  The Are You Being Served? Stories: 'Camping In...   \n",
      "1031174      10  Dallas Street Map Guide and Directory, 2000 Ed...   \n",
      "\n",
      "                  book_author  year_of_publication                 publisher  \\\n",
      "1        Richard Bruce Wright               2001.0     HarperFlamingo Canada   \n",
      "3        Richard Bruce Wright               2001.0     HarperFlamingo Canada   \n",
      "5        Richard Bruce Wright               2001.0     HarperFlamingo Canada   \n",
      "8        Richard Bruce Wright               2001.0     HarperFlamingo Canada   \n",
      "9        Richard Bruce Wright               2001.0     HarperFlamingo Canada   \n",
      "...                       ...                  ...                       ...   \n",
      "1031169         P.J. O'Rourke               1987.0              Pocket Books   \n",
      "1031171          Sam Lightner               2001.0            Broadway Books   \n",
      "1031172         Claude Dooley               1985.0           Lone Star Books   \n",
      "1031173          Jeremy Lloyd               1997.0                Kqed Books   \n",
      "1031174                Mapsco               1999.0  American Map Corporation   \n",
      "\n",
      "                                                   Summary Language  \\\n",
      "1        In a small town in Canada, Clara Callan reluct...       en   \n",
      "3        In a small town in Canada, Clara Callan reluct...       en   \n",
      "5        In a small town in Canada, Clara Callan reluct...       en   \n",
      "8        In a small town in Canada, Clara Callan reluct...       en   \n",
      "9        In a small town in Canada, Clara Callan reluct...       en   \n",
      "...                                                    ...      ...   \n",
      "1031169  A tongue-in-cheek survival guide for single pe...       en   \n",
      "1031171  A daring twist on the travel-adventure genre t...       en   \n",
      "1031172                                                  9        9   \n",
      "1031173  These hilarious stories by the creator of publ...       en   \n",
      "1031174                                                  9        9   \n",
      "\n",
      "              Category      city    state country  \n",
      "1        ['Actresses']   timmins  ontario  canada  \n",
      "3        ['Actresses']       NaN      NaN     NaN  \n",
      "5        ['Actresses']   toronto  ontario  canada  \n",
      "8        ['Actresses']    ottawa        ,     NaN  \n",
      "9        ['Actresses']  kingston  ontario  canada  \n",
      "...                ...       ...      ...     ...  \n",
      "1031169      ['Humor']    dallas    texas     usa  \n",
      "1031171     ['Nature']    dallas    texas     usa  \n",
      "1031172              9    dallas    texas     usa  \n",
      "1031173    ['Fiction']    dallas    texas     usa  \n",
      "1031174              9    dallas    texas     usa  \n",
      "\n",
      "[383852 rows x 16 columns]\n"
     ]
    }
   ],
   "source": [
    "print (df)"
   ]
  },
  {
   "cell_type": "code",
   "execution_count": 14,
   "id": "e43202b1",
   "metadata": {},
   "outputs": [],
   "source": [
    "df.to_csv('Preprocessed_data_cleaned.csv', index=False)"
   ]
  },
  {
   "cell_type": "code",
   "execution_count": 20,
   "id": "d3a204cb",
   "metadata": {},
   "outputs": [],
   "source": [
    "# From now on we can work with df or load from the beggining \n",
    "# the Preprocessed_data_cleaned.csv file"
   ]
  },
  {
   "cell_type": "markdown",
   "id": "0ced6bdf",
   "metadata": {},
   "source": [
    "-------------------------------------------------------------------\n",
    "# Demographic Filtering"
   ]
  },
  {
   "cell_type": "markdown",
   "id": "2f4f285c",
   "metadata": {},
   "source": [
    "------------------------------------------------------------------------\n",
    "# Content Filtering"
   ]
  },
  {
   "cell_type": "code",
   "execution_count": 1,
   "id": "8c7e54c6",
   "metadata": {},
   "outputs": [
    {
     "name": "stdout",
     "output_type": "stream",
     "text": [
      "content\n"
     ]
    }
   ],
   "source": [
    "print('content')"
   ]
  },
  {
   "cell_type": "code",
   "execution_count": null,
   "id": "119b00eb",
   "metadata": {},
   "outputs": [],
   "source": []
  }
 ],
 "metadata": {
  "kernelspec": {
   "display_name": "Python 3 (ipykernel)",
   "language": "python",
   "name": "python3"
  },
  "language_info": {
   "codemirror_mode": {
    "name": "ipython",
    "version": 3
   },
   "file_extension": ".py",
   "mimetype": "text/x-python",
   "name": "python",
   "nbconvert_exporter": "python",
   "pygments_lexer": "ipython3",
   "version": "3.9.12"
  }
 },
 "nbformat": 4,
 "nbformat_minor": 5
}
